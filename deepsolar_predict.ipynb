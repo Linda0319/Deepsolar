{
  "nbformat": 4,
  "nbformat_minor": 0,
  "metadata": {
    "colab": {
      "name": "deepsolar_predict.ipynb",
      "provenance": [],
      "collapsed_sections": [],
      "include_colab_link": true
    },
    "kernelspec": {
      "display_name": "Python 3",
      "language": "python",
      "name": "python3"
    },
    "language_info": {
      "codemirror_mode": {
        "name": "ipython",
        "version": 3
      },
      "file_extension": ".py",
      "mimetype": "text/x-python",
      "name": "python",
      "nbconvert_exporter": "python",
      "pygments_lexer": "ipython3",
      "version": "3.8.8"
    }
  },
  "cells": [
    {
      "cell_type": "markdown",
      "metadata": {
        "id": "view-in-github",
        "colab_type": "text"
      },
      "source": [
        "<a href=\"https://colab.research.google.com/github/Linda0319/Deepsolar/blob/main/deepsolar_predict.ipynb\" target=\"_parent\"><img src=\"https://colab.research.google.com/assets/colab-badge.svg\" alt=\"Open In Colab\"/></a>"
      ]
    },
    {
      "cell_type": "markdown",
      "metadata": {
        "id": "EBAC-ZJzimjA"
      },
      "source": [
        "[](https://aifreeblog.herokuapp.com/posts/64/Data_Analytics_in_Practice_Titanic/)"
      ]
    },
    {
      "cell_type": "markdown",
      "metadata": {
        "id": "dFbK73IfZlUD"
      },
      "source": [
        "## **上傳資料/DeepSolar套件**"
      ]
    },
    {
      "cell_type": "code",
      "metadata": {
        "id": "CO3CdDbVP73v"
      },
      "source": [
        "import numpy as np\n",
        "import pandas as pd\n",
        "import matplotlib.pyplot as plt\n",
        "import seaborn as sns\n",
        "from sklearn.model_selection import train_test_split,cross_val_score,ShuffleSplit,GridSearchCV\n",
        "from sklearn.metrics import mean_squared_error, r2_score\n",
        "from sklearn.metrics import accuracy_score,confusion_matrix,classification_report\n",
        "from IPython.display import display\n",
        "%matplotlib inline"
      ],
      "execution_count": null,
      "outputs": []
    },
    {
      "cell_type": "code",
      "metadata": {
        "id": "I5F3INhMNwbF",
        "colab": {
          "base_uri": "https://localhost:8080/"
        },
        "outputId": "7c3ba24b-738c-4bc0-fb3b-3fafed452ed8"
      },
      "source": [
        "from google.colab import drive\n",
        "drive.mount('/content/drive')"
      ],
      "execution_count": null,
      "outputs": [
        {
          "output_type": "stream",
          "text": [
            "Mounted at /content/drive\n"
          ],
          "name": "stdout"
        }
      ]
    },
    {
      "cell_type": "code",
      "metadata": {
        "colab": {
          "base_uri": "https://localhost:8080/"
        },
        "id": "ms6AnJqjbTjl",
        "outputId": "0b232ffd-7dc8-41ac-8a73-0c9c46929268"
      },
      "source": [
        "ROUTE1 = '/content/drive/MyDrive/Colab Notebooks/deepsolar_tract.csv'\n",
        "df = pd.read_csv(ROUTE1,sep=',',header=0)\n",
        "df.info()"
      ],
      "execution_count": null,
      "outputs": [
        {
          "output_type": "stream",
          "text": [
            "<class 'pandas.core.frame.DataFrame'>\n",
            "RangeIndex: 72537 entries, 0 to 72536\n",
            "Columns: 169 entries, ID to avg_electricity_retail_rate\n",
            "dtypes: bool(2), float64(117), int64(47), object(3)\n",
            "memory usage: 92.6+ MB\n"
          ],
          "name": "stdout"
        }
      ]
    },
    {
      "cell_type": "code",
      "metadata": {
        "colab": {
          "base_uri": "https://localhost:8080/"
        },
        "id": "kzNHt94Hvb4k",
        "outputId": "dc1ad8be-b146-4324-a7fa-f453b2e40e34"
      },
      "source": [
        "df.electricity_price_transportation = df.electricity_price_transportation.replace(r'\\s', np.nan,regex=True)\n",
        "df.electricity_price_transportation=df.electricity_price_transportation.astype(np.float64)\n",
        "df.electricity_price_transportation"
      ],
      "execution_count": null,
      "outputs": [
        {
          "output_type": "execute_result",
          "data": {
            "text/plain": [
              "0         9.50\n",
              "1         9.50\n",
              "2         9.50\n",
              "3         9.50\n",
              "4         9.50\n",
              "         ...  \n",
              "72532    10.08\n",
              "72533      NaN\n",
              "72534      NaN\n",
              "72535      NaN\n",
              "72536     5.34\n",
              "Name: electricity_price_transportation, Length: 72537, dtype: float64"
            ]
          },
          "metadata": {
            "tags": []
          },
          "execution_count": 5
        }
      ]
    },
    {
      "cell_type": "code",
      "metadata": {
        "colab": {
          "base_uri": "https://localhost:8080/"
        },
        "id": "AT1osN2NhZeP",
        "outputId": "a832dc87-a9ec-438d-9803-91494caf7ffc"
      },
      "source": [
        "df.county.unique()"
      ],
      "execution_count": null,
      "outputs": [
        {
          "output_type": "execute_result",
          "data": {
            "text/plain": [
              "array(['Stearns County', 'Orange County', 'Los Angeles County', ...,\n",
              "       'Hemphill County', 'Taliaferro County', 'Love County'],\n",
              "      dtype=object)"
            ]
          },
          "metadata": {
            "tags": []
          },
          "execution_count": 6
        }
      ]
    },
    {
      "cell_type": "code",
      "metadata": {
        "colab": {
          "base_uri": "https://localhost:8080/"
        },
        "id": "KQmUEIQXIcZI",
        "outputId": "de6ef644-d70b-4919-b2c6-718fadaa3e2f"
      },
      "source": [
        "null_count = (np.sum(df.isnull()) /df.shape[0]).sort_values(ascending=False)[0:10]\n",
        "null_count"
      ],
      "execution_count": null,
      "outputs": [
        {
          "output_type": "execute_result",
          "data": {
            "text/plain": [
              "electricity_price_transportation    0.164040\n",
              "voting_2012_dem_percentage          0.145498\n",
              "voting_2012_gop_percentage          0.145498\n",
              "heating_degree_days                 0.079987\n",
              "earth_temperature_amplitude         0.079987\n",
              "cooling_degree_days                 0.079987\n",
              "earth_temperature                   0.079987\n",
              "wind_speed                          0.079987\n",
              "atmospheric_pressure                0.079987\n",
              "daily_solar_radiation               0.079987\n",
              "dtype: float64"
            ]
          },
          "metadata": {
            "tags": []
          },
          "execution_count": 6
        }
      ]
    },
    {
      "cell_type": "code",
      "metadata": {
        "colab": {
          "base_uri": "https://localhost:8080/"
        },
        "id": "jKPcDXLmvehF",
        "outputId": "44e1caea-5f01-483a-db06-fd64a6334a46"
      },
      "source": [
        "df_clean = df.dropna()\n",
        "null_count1 = (np.sum(df_clean.isnull()) /df_clean.shape[0]).sort_values(ascending=False)[0:10]\n",
        "null_count1"
      ],
      "execution_count": null,
      "outputs": [
        {
          "output_type": "execute_result",
          "data": {
            "text/plain": [
              "avg_electricity_retail_rate                0.0\n",
              "race_asian_rate                            0.0\n",
              "heating_fuel_fuel_oil_kerosene_rate        0.0\n",
              "heating_fuel_electricity_rate              0.0\n",
              "heating_fuel_gas_rate                      0.0\n",
              "poverty_family_below_poverty_level_rate    0.0\n",
              "employ_rate                                0.0\n",
              "race_two_more_rate                         0.0\n",
              "race_other_rate                            0.0\n",
              "race_islander_rate                         0.0\n",
              "dtype: float64"
            ]
          },
          "metadata": {
            "tags": []
          },
          "execution_count": 7
        }
      ]
    },
    {
      "cell_type": "code",
      "metadata": {
        "colab": {
          "base_uri": "https://localhost:8080/"
        },
        "id": "pbDpvWMKvgin",
        "outputId": "3bda86e8-55ac-441b-fa13-baabdadb5a07"
      },
      "source": [
        "drop_columns=['county','state','voting_2016_dem_win','voting_2012_dem_win','ID','solar_panel_area_divided_by_area',\n",
        "         'tile_count','tile_count_residential','tile_count_nonresidential','solar_system_count','total_panel_area',\n",
        "         'fips','solar_panel_area_per_capita','solar_system_count_residential',\n",
        "         'solar_system_count_nonresidential','number_of_solar_system_per_household','total_panel_area_nonresidential',\n",
        "         'heating_fuel_solar_rate','heating_fuel_solar']\n",
        "df_area = df_clean.drop(drop_columns,axis=1)\n",
        "df_area.info()"
      ],
      "execution_count": null,
      "outputs": [
        {
          "output_type": "stream",
          "text": [
            "<class 'pandas.core.frame.DataFrame'>\n",
            "Int64Index: 45179 entries, 0 to 72536\n",
            "Columns: 150 entries, average_household_income to avg_electricity_retail_rate\n",
            "dtypes: float64(106), int64(44)\n",
            "memory usage: 52.0 MB\n"
          ],
          "name": "stdout"
        }
      ]
    },
    {
      "cell_type": "code",
      "metadata": {
        "colab": {
          "base_uri": "https://localhost:8080/"
        },
        "id": "kCucGs5MaIYI",
        "outputId": "6ba74156-7d7f-47c7-b909-4acc6eba4eb1"
      },
      "source": [
        "df_y = df_clean['total_panel_area_residential']\n",
        "df_y.describe()"
      ],
      "execution_count": null,
      "outputs": [
        {
          "output_type": "execute_result",
          "data": {
            "text/plain": [
              "count    45179.000000\n",
              "mean       546.550595\n",
              "std       1509.026315\n",
              "min          0.000000\n",
              "25%          5.940687\n",
              "50%         65.938532\n",
              "75%        366.094661\n",
              "max      40380.099851\n",
              "Name: total_panel_area_residential, dtype: float64"
            ]
          },
          "metadata": {
            "tags": []
          },
          "execution_count": 9
        }
      ]
    },
    {
      "cell_type": "code",
      "metadata": {
        "id": "4Tw6_I9mvlkB"
      },
      "source": [
        "df_area = df_area.apply(lambda x: (x - x.min()) / (x.max() - x.min())*0.6+0.2)"
      ],
      "execution_count": null,
      "outputs": []
    },
    {
      "cell_type": "code",
      "metadata": {
        "id": "3N4FpOMnwMHc"
      },
      "source": [
        "df_x = df_area.drop(['total_panel_area_residential'],axis=1)"
      ],
      "execution_count": null,
      "outputs": []
    },
    {
      "cell_type": "code",
      "metadata": {
        "colab": {
          "base_uri": "https://localhost:8080/"
        },
        "id": "owEoDzTxwDKz",
        "outputId": "257255e6-5844-473f-bb42-12f482deb9cc"
      },
      "source": [
        "X = df_x\n",
        "Y = df_area['total_panel_area_residential']\n",
        "print(X.shape)\n",
        "print(Y.shape)"
      ],
      "execution_count": null,
      "outputs": [
        {
          "output_type": "stream",
          "text": [
            "(45179, 149)\n",
            "(45179,)\n"
          ],
          "name": "stdout"
        }
      ]
    },
    {
      "cell_type": "code",
      "metadata": {
        "colab": {
          "base_uri": "https://localhost:8080/"
        },
        "id": "h5e7SP4Pv7mr",
        "outputId": "e268ec72-eaad-4cb8-da2b-677f32f4cb6d"
      },
      "source": [
        "X_train, X_test, Y_train, Y_test = train_test_split(X, Y, test_size=0.33, random_state=101)\n",
        "print(X_train.shape)\n",
        "print(X_test.shape)\n",
        "print(Y_train.shape)\n",
        "print(Y_test.shape)"
      ],
      "execution_count": null,
      "outputs": [
        {
          "output_type": "stream",
          "text": [
            "(30269, 149)\n",
            "(14910, 149)\n",
            "(30269,)\n",
            "(14910,)\n"
          ],
          "name": "stdout"
        }
      ]
    },
    {
      "cell_type": "markdown",
      "metadata": {
        "id": "lZsOiZl3wi0B"
      },
      "source": [
        "# LR"
      ]
    },
    {
      "cell_type": "code",
      "metadata": {
        "id": "QU11uQ9T2C88",
        "colab": {
          "base_uri": "https://localhost:8080/"
        },
        "outputId": "85f6eaf8-dcfa-41d9-c40d-07060ea37f8f"
      },
      "source": [
        "from sklearn.linear_model import LinearRegression\n",
        "lr = LinearRegression()\n",
        "lr.fit(X_train, Y_train)\n",
        "\n",
        "#print('Linear Regression coefficients: {}'.format(lm.coef_)) #各feature的coef\n",
        "print('Linear Regression intercept: {}'.format(lr.intercept_)) #-1812468440.9355044"
      ],
      "execution_count": null,
      "outputs": [
        {
          "output_type": "stream",
          "text": [
            "Linear Regression intercept: -1812468440.9355044\n"
          ],
          "name": "stdout"
        }
      ]
    },
    {
      "cell_type": "code",
      "metadata": {
        "id": "Uah1ptXuiWMv"
      },
      "source": [
        "def lr_plot(Y,y_pred):\n",
        "  fig= plt.subplots(figsize=(5,5)) \n",
        "  sns.scatterplot(Y, y_pred, alpha=0.4)\n",
        "  sns.regplot(Y, y_pred, truncate=True, scatter_kws={'s': 20, 'alpha':0.3}, line_kws={'color':'green', 'linewidth': 2})\n",
        "  \n",
        "  plt.xlabel(\"Actual area: $Y_i$\")\n",
        "  plt.ylabel(\"Predicted area: $\\hat{Y}_i$\")\n",
        "  plt.title(\"Actual area vs Predicted area: $Y_i$ vs $\\hat{Y}_i$\")\n",
        "  return plt.show()"
      ],
      "execution_count": null,
      "outputs": []
    },
    {
      "cell_type": "code",
      "metadata": {
        "id": "pmh9s6HfxktF"
      },
      "source": [
        "def metrics(Y,y_pred):\n",
        "    r2 = r2_score(Y,y_pred)\n",
        "    rmse = (np.sqrt(mean_squared_error(Y,y_pred)))\n",
        "    print('r-squared: {}{}'.format(r2*100,'%'))\n",
        "    print('---------------------------------------')\n",
        "    print('root mean squared error: {}'.format(rmse))"
      ],
      "execution_count": null,
      "outputs": []
    },
    {
      "cell_type": "code",
      "metadata": {
        "id": "lHtiHzuRkUo4"
      },
      "source": [
        "def accu_rate(Y,y_pred):\n",
        "  errth = (abs(Y-y_pred))/Y\n",
        "  df_errth = errth.to_frame('errth')\n",
        "  [t1,t2,t3] = [0.01,0.05,0.1] #threshold， \n",
        "\n",
        "  count1 = 0\n",
        "  for i in df_errth.errth:\n",
        "    if i < float(t1):\n",
        "      count1 = count1+1\n",
        "  r1 = count1/len(df_errth)*100\n",
        "\n",
        "  count2 = 0\n",
        "  for i in df_errth.errth:\n",
        "    if i < float(t2):\n",
        "      count2 = count2+1\n",
        "  r2 = count2/len(df_errth)*100\n",
        "\n",
        "  count3 = 0\n",
        "  for i in df_errth.errth:\n",
        "    if i < float(t3):\n",
        "      count3 = count3+1\n",
        "  r3 = count3/len(df_errth)*100\n",
        "\n",
        "  print('when threshold {} accuracy rate: {}%'.format(t1,r1))\n",
        "  print('when threshold {} accuracy rate: {}%'.format(t2,r2))\n",
        "  print('when threshold {} accuracy rate: {}%'.format(t3,r3))"
      ],
      "execution_count": null,
      "outputs": []
    },
    {
      "cell_type": "code",
      "metadata": {
        "colab": {
          "base_uri": "https://localhost:8080/",
          "height": 446
        },
        "id": "Oy64ZXhzjxRL",
        "outputId": "2611311e-03e5-4756-e993-fdc7df55801d"
      },
      "source": [
        "y_lrtrain_pred = lr.predict(X_train)\n",
        "lr_plot(Y_train,y_lrtrain_pred)"
      ],
      "execution_count": null,
      "outputs": [
        {
          "output_type": "stream",
          "text": [
            "/usr/local/lib/python3.7/dist-packages/seaborn/_decorators.py:43: FutureWarning: Pass the following variables as keyword args: x, y. From version 0.12, the only valid positional argument will be `data`, and passing other arguments without an explicit keyword will result in an error or misinterpretation.\n",
            "  FutureWarning\n",
            "/usr/local/lib/python3.7/dist-packages/seaborn/_decorators.py:43: FutureWarning: Pass the following variables as keyword args: x, y. From version 0.12, the only valid positional argument will be `data`, and passing other arguments without an explicit keyword will result in an error or misinterpretation.\n",
            "  FutureWarning\n"
          ],
          "name": "stderr"
        },
        {
          "output_type": "display_data",
          "data": {
            "image/png": "[encoded data removed]",
            "text/plain": [
              "<Figure size 360x360 with 1 Axes>"
            ]
          },
          "metadata": {
            "tags": [],
            "needs_background": "light"
          }
        }
      ]
    },
    {
      "cell_type": "code",
      "metadata": {
        "colab": {
          "base_uri": "https://localhost:8080/"
        },
        "id": "DJrroSklkRkj",
        "outputId": "93c60615-03c0-4549-b6d5-9a9338ad140b"
      },
      "source": [
        "metrics(Y_train,y_lrtrain_pred)"
      ],
      "execution_count": null,
      "outputs": [
        {
          "output_type": "stream",
          "text": [
            "r-squared: 49.355803031236874%\n",
            "---------------------------------------\n",
            "root mean squared error: 0.015823818214063593\n"
          ],
          "name": "stdout"
        }
      ]
    },
    {
      "cell_type": "code",
      "metadata": {
        "colab": {
          "base_uri": "https://localhost:8080/"
        },
        "id": "uadESY4_pURv",
        "outputId": "402b4899-df46-4292-8e21-5962f0732dea"
      },
      "source": [
        "accu_rate(Y_train,y_lrtrain_pred)"
      ],
      "execution_count": null,
      "outputs": [
        {
          "output_type": "stream",
          "text": [
            "when threshold 0.01 accuracy rate: 24.65228451551092%\n",
            "when threshold 0.05 accuracy rate: 77.55789751891375%\n",
            "when threshold 0.1 accuracy rate: 93.77911394496019%\n"
          ],
          "name": "stdout"
        }
      ]
    },
    {
      "cell_type": "code",
      "metadata": {
        "id": "b-DLvXIb2C88",
        "colab": {
          "base_uri": "https://localhost:8080/",
          "height": 446
        },
        "outputId": "39251a76-0208-48cd-f7a9-2591dd0aecdc"
      },
      "source": [
        "y_lrtest_pred = lr.predict(X_test)\n",
        "lr_plot(Y_test,y_lrtest_pred)"
      ],
      "execution_count": null,
      "outputs": [
        {
          "output_type": "stream",
          "text": [
            "/usr/local/lib/python3.7/dist-packages/seaborn/_decorators.py:43: FutureWarning: Pass the following variables as keyword args: x, y. From version 0.12, the only valid positional argument will be `data`, and passing other arguments without an explicit keyword will result in an error or misinterpretation.\n",
            "  FutureWarning\n",
            "/usr/local/lib/python3.7/dist-packages/seaborn/_decorators.py:43: FutureWarning: Pass the following variables as keyword args: x, y. From version 0.12, the only valid positional argument will be `data`, and passing other arguments without an explicit keyword will result in an error or misinterpretation.\n",
            "  FutureWarning\n"
          ],
          "name": "stderr"
        },
        {
          "output_type": "display_data",
          "data": {
            "image/png": "[encoded data removed]",
            "text/plain": [
              "<Figure size 360x360 with 1 Axes>"
            ]
          },
          "metadata": {
            "tags": [],
            "needs_background": "light"
          }
        }
      ]
    },
    {
      "cell_type": "code",
      "metadata": {
        "colab": {
          "base_uri": "https://localhost:8080/"
        },
        "id": "JlVnZY2vsbG2",
        "outputId": "aabf77dc-d0b9-4a97-f02a-8ec431c09635"
      },
      "source": [
        "metrics(Y_test,y_lrtest_pred)"
      ],
      "execution_count": null,
      "outputs": [
        {
          "output_type": "stream",
          "text": [
            "r-squared: 47.33711070250344%\n",
            "---------------------------------------\n",
            "root mean squared error: 0.016542947490692284\n"
          ],
          "name": "stdout"
        }
      ]
    },
    {
      "cell_type": "code",
      "metadata": {
        "colab": {
          "base_uri": "https://localhost:8080/"
        },
        "id": "wzt8H5IDsest",
        "outputId": "9a958b15-44ba-4057-ca3f-f190c115996a"
      },
      "source": [
        "accu_rate(Y_test,y_lrtest_pred)"
      ],
      "execution_count": null,
      "outputs": [
        {
          "output_type": "stream",
          "text": [
            "when threshold 0.01 accuracy rate: 24.728370221327967%\n",
            "when threshold 0.05 accuracy rate: 77.63246143527833%\n",
            "when threshold 0.1 accuracy rate: 93.37357478202549%\n"
          ],
          "name": "stdout"
        }
      ]
    },
    {
      "cell_type": "markdown",
      "metadata": {
        "id": "JlvpKslWz8Hj"
      },
      "source": [
        "# DNN"
      ]
    },
    {
      "cell_type": "code",
      "metadata": {
        "id": "8Mi_IaiL2C89"
      },
      "source": [
        "from sklearn.neural_network import MLPRegressor\n",
        "\n",
        "dnn=MLPRegressor(hidden_layer_sizes=(80,80,80),\n",
        "         activation='relu',\n",
        "         solver='adam', \n",
        "         batch_size=100,\n",
        "         learning_rate='constant', \n",
        "         learning_rate_init=0.01,\n",
        "         power_t=0.5,    \n",
        "         max_iter=1000,   \n",
        "         shuffle=True,    \n",
        "         random_state=1,  \n",
        "         momentum=0.9)"
      ],
      "execution_count": null,
      "outputs": []
    },
    {
      "cell_type": "code",
      "metadata": {
        "id": "xLQ4JabT2C89",
        "colab": {
          "base_uri": "https://localhost:8080/"
        },
        "outputId": "2a8d67aa-e258-4beb-be11-5e3e5f1605cb"
      },
      "source": [
        "dnn.fit(X_train, Y_train)\n",
        "y_dnntrain_pred=dnn.predict(X_train)\n",
        "y_dnntrain_pred"
      ],
      "execution_count": null,
      "outputs": [
        {
          "output_type": "execute_result",
          "data": {
            "text/plain": [
              "array([0.20089247, 0.20127847, 0.2005351 , ..., 0.20066376, 0.20101926,\n",
              "       0.20091311])"
            ]
          },
          "metadata": {
            "tags": []
          },
          "execution_count": 106
        }
      ]
    },
    {
      "cell_type": "code",
      "metadata": {
        "colab": {
          "base_uri": "https://localhost:8080/"
        },
        "id": "vDpPUwhZs6Jw",
        "outputId": "21c378d3-0961-4a02-97b7-8db0f579b488"
      },
      "source": [
        "metrics(Y_train,y_dnntrain_pred)"
      ],
      "execution_count": null,
      "outputs": [
        {
          "output_type": "stream",
          "text": [
            "r-squared: 43.20732900164723%\n",
            "---------------------------------------\n",
            "root mean squared error: 0.016756857931108666\n"
          ],
          "name": "stdout"
        }
      ]
    },
    {
      "cell_type": "code",
      "metadata": {
        "colab": {
          "base_uri": "https://localhost:8080/"
        },
        "id": "PZhnzf0CtQr7",
        "outputId": "894ad6e6-1e0e-4b28-b338-cc66de0f6036"
      },
      "source": [
        "accu_rate(Y_train,y_dnntrain_pred)"
      ],
      "execution_count": null,
      "outputs": [
        {
          "output_type": "stream",
          "text": [
            "when threshold 0.01 accuracy rate: 68.5024282268988%\n",
            "when threshold 0.05 accuracy rate: 87.33687931547126%\n",
            "when threshold 0.1 accuracy rate: 93.69321748323367%\n"
          ],
          "name": "stdout"
        }
      ]
    },
    {
      "cell_type": "code",
      "metadata": {
        "colab": {
          "base_uri": "https://localhost:8080/"
        },
        "id": "wy5O5RRr2mtp",
        "outputId": "b2146c29-d6b0-430d-b1fe-5542f3189159"
      },
      "source": [
        "y_dnntest_pred=dnn.predict(X_test)\n",
        "y_dnntest_pred"
      ],
      "execution_count": null,
      "outputs": [
        {
          "output_type": "execute_result",
          "data": {
            "text/plain": [
              "array([0.20097086, 0.20094368, 0.2010214 , ..., 0.20166421, 0.20215641,\n",
              "       0.22667792])"
            ]
          },
          "metadata": {
            "tags": []
          },
          "execution_count": 296
        }
      ]
    },
    {
      "cell_type": "code",
      "metadata": {
        "colab": {
          "base_uri": "https://localhost:8080/"
        },
        "id": "AFMeL1bbtWOO",
        "outputId": "f95f4281-7cc6-4ec4-89cb-6a93ed5461f8"
      },
      "source": [
        "metrics(Y_test,y_dnntest_pred)"
      ],
      "execution_count": null,
      "outputs": [
        {
          "output_type": "stream",
          "text": [
            "r-squared: 41.56213099285833%\n",
            "---------------------------------------\n",
            "root mean squared error: 0.017426402278653188\n"
          ],
          "name": "stdout"
        }
      ]
    },
    {
      "cell_type": "code",
      "metadata": {
        "colab": {
          "base_uri": "https://localhost:8080/"
        },
        "id": "6H4MnBaftbS7",
        "outputId": "74a00f92-cc3c-4f12-ee19-7f5cf0846c44"
      },
      "source": [
        "accu_rate(Y_test,y_dnntest_pred)"
      ],
      "execution_count": null,
      "outputs": [
        {
          "output_type": "stream",
          "text": [
            "when threshold 0.01 accuracy rate: 68.16901408450704%\n",
            "when threshold 0.05 accuracy rate: 87.458081824279%\n",
            "when threshold 0.1 accuracy rate: 93.75586854460094%\n"
          ],
          "name": "stdout"
        }
      ]
    },
    {
      "cell_type": "markdown",
      "metadata": {
        "id": "PkPxiwYCtLj-"
      },
      "source": [
        "# ExtraTrees\n",
        "\n"
      ]
    },
    {
      "cell_type": "code",
      "metadata": {
        "id": "Z7V2jUl5skfx"
      },
      "source": [
        "from sklearn.ensemble import BaggingRegressor\n",
        "from sklearn.tree import ExtraTreeRegressor\n",
        "extra_tree = ExtraTreeRegressor\n",
        "reg = BaggingRegressor(extra_tree, random_state=0).fit(X_train, Y_train)"
      ],
      "execution_count": null,
      "outputs": []
    },
    {
      "cell_type": "code",
      "metadata": {
        "colab": {
          "base_uri": "https://localhost:8080/"
        },
        "id": "MRGAZ3Tv5li6",
        "outputId": "9dc556c7-2d50-415b-8908-d2adb49dd5a8"
      },
      "source": [
        "y_bagtrain_pred=bag.predict(X_train)\n",
        "y_bagtrain_pred"
      ],
      "execution_count": null,
      "outputs": [
        {
          "output_type": "execute_result",
          "data": {
            "text/plain": [
              "array([0.20029019, 0.20087936, 0.20040306, ..., 0.20016848, 0.20132937,\n",
              "       0.20024455])"
            ]
          },
          "metadata": {
            "tags": []
          },
          "execution_count": 304
        }
      ]
    },
    {
      "cell_type": "code",
      "metadata": {
        "colab": {
          "base_uri": "https://localhost:8080/"
        },
        "id": "jdLME7z2tuR4",
        "outputId": "0a9408c1-0ac5-49d6-f83a-a8aa9005136f"
      },
      "source": [
        "metrics(Y_train,y_bagtrain_pred)"
      ],
      "execution_count": null,
      "outputs": [
        {
          "output_type": "stream",
          "text": [
            "r-squared: 94.05098570895728%\n",
            "---------------------------------------\n",
            "root mean squared error: 0.005423366405072792\n"
          ],
          "name": "stdout"
        }
      ]
    },
    {
      "cell_type": "code",
      "metadata": {
        "colab": {
          "base_uri": "https://localhost:8080/"
        },
        "id": "kR6JJy8tt3FN",
        "outputId": "39984bf2-4c35-43d7-c20a-19c058adef43"
      },
      "source": [
        "accu_rate(Y_train,y_bagtrain_pred)"
      ],
      "execution_count": null,
      "outputs": [
        {
          "output_type": "stream",
          "text": [
            "when threshold 0.01 accuracy rate: 82.40113647626285%\n",
            "when threshold 0.05 accuracy rate: 97.22818725428657%\n",
            "when threshold 0.1 accuracy rate: 99.3425616967855%\n"
          ],
          "name": "stdout"
        }
      ]
    },
    {
      "cell_type": "code",
      "metadata": {
        "colab": {
          "base_uri": "https://localhost:8080/"
        },
        "id": "ZV4J_JXb5wm8",
        "outputId": "75c683ae-2782-47d3-863b-a0b27ce15624"
      },
      "source": [
        "y_bagtest_pred=bag.predict(X_test)\n",
        "y_bagtest_pred"
      ],
      "execution_count": null,
      "outputs": [
        {
          "output_type": "execute_result",
          "data": {
            "text/plain": [
              "array([0.20107311, 0.20121695, 0.20058   , ..., 0.2008388 , 0.23339015,\n",
              "       0.25364393])"
            ]
          },
          "metadata": {
            "tags": []
          },
          "execution_count": 307
        }
      ]
    },
    {
      "cell_type": "code",
      "metadata": {
        "colab": {
          "base_uri": "https://localhost:8080/"
        },
        "id": "Wz3Uupm3uAWF",
        "outputId": "3e15f16f-78e3-4c46-ee68-684f8ad8a390"
      },
      "source": [
        "metrics(Y_test,y_bagtest_pred)"
      ],
      "execution_count": null,
      "outputs": [
        {
          "output_type": "stream",
          "text": [
            "r-squared: 67.2160796371867%\n",
            "---------------------------------------\n",
            "root mean squared error: 0.013052418586408897\n"
          ],
          "name": "stdout"
        }
      ]
    },
    {
      "cell_type": "code",
      "metadata": {
        "colab": {
          "base_uri": "https://localhost:8080/"
        },
        "id": "9dFzme4BuEHI",
        "outputId": "67cc4d17-0669-4eb0-92d5-43f318191ded"
      },
      "source": [
        "accu_rate(Y_test,y_bagtest_pred)"
      ],
      "execution_count": null,
      "outputs": [
        {
          "output_type": "stream",
          "text": [
            "when threshold 0.01 accuracy rate: 67.02213279678068%\n",
            "when threshold 0.05 accuracy rate: 90.19450033534541%\n",
            "when threshold 0.1 accuracy rate: 96.0898725687458%\n"
          ],
          "name": "stdout"
        }
      ]
    },
    {
      "cell_type": "markdown",
      "metadata": {
        "id": "7eUKYyHF5YDg"
      },
      "source": [
        "# XGBoost"
      ]
    },
    {
      "cell_type": "code",
      "metadata": {
        "id": "6bLTNONzvA_8",
        "colab": {
          "base_uri": "https://localhost:8080/"
        },
        "outputId": "b0328b9a-15ae-4770-b8bb-bde17edd2b00"
      },
      "source": [
        "from xgboost import XGBRegressor\n",
        "xgbc = XGBRegressor(objective ='reg:linear', verbosity = 0, random_state=42)\n",
        "xgbc.fit(X_train, Y_train)"
      ],
      "execution_count": null,
      "outputs": [
        {
          "output_type": "execute_result",
          "data": {
            "text/plain": [
              "XGBRegressor(base_score=0.5, booster='gbtree', colsample_bylevel=1,\n",
              "             colsample_bynode=1, colsample_bytree=1, gamma=0,\n",
              "             importance_type='gain', learning_rate=0.1, max_delta_step=0,\n",
              "             max_depth=3, min_child_weight=1, missing=None, n_estimators=100,\n",
              "             n_jobs=1, nthread=None, objective='reg:linear', random_state=42,\n",
              "             reg_alpha=0, reg_lambda=1, scale_pos_weight=1, seed=None,\n",
              "             silent=None, subsample=1, verbosity=0)"
            ]
          },
          "metadata": {
            "tags": []
          },
          "execution_count": 310
        }
      ]
    },
    {
      "cell_type": "code",
      "metadata": {
        "colab": {
          "base_uri": "https://localhost:8080/"
        },
        "id": "3TAE7UflvA_8",
        "outputId": "d8ed8d85-ef64-4a33-a97d-e70407e6ffa7"
      },
      "source": [
        "y_xgbctrain_pred=xgbc.predict(X_train)\n",
        "y_xgbctrain_pred"
      ],
      "execution_count": null,
      "outputs": [
        {
          "output_type": "execute_result",
          "data": {
            "text/plain": [
              "array([0.20023787, 0.20133826, 0.19958097, ..., 0.19925374, 0.20062393,\n",
              "       0.20342839], dtype=float32)"
            ]
          },
          "metadata": {
            "tags": []
          },
          "execution_count": 311
        }
      ]
    },
    {
      "cell_type": "code",
      "metadata": {
        "colab": {
          "base_uri": "https://localhost:8080/"
        },
        "id": "tVGZN_nZvvBx",
        "outputId": "7b513900-7e2f-48e3-95b7-5ab8526d5621"
      },
      "source": [
        "metrics(Y_train,y_xgbctrain_pred)"
      ],
      "execution_count": null,
      "outputs": [
        {
          "output_type": "stream",
          "text": [
            "r-squared: 76.58229966947133%\n",
            "---------------------------------------\n",
            "root mean squared error: 0.010760155870770779\n"
          ],
          "name": "stdout"
        }
      ]
    },
    {
      "cell_type": "code",
      "metadata": {
        "colab": {
          "base_uri": "https://localhost:8080/"
        },
        "id": "--Wldvlyvzv2",
        "outputId": "ea11f064-b1bc-4cfb-c69b-499dec405aa9"
      },
      "source": [
        "accu_rate(Y_train,y_xgbctrain_pred)"
      ],
      "execution_count": null,
      "outputs": [
        {
          "output_type": "stream",
          "text": [
            "when threshold 0.01 accuracy rate: 60.50744986619975%\n",
            "when threshold 0.05 accuracy rate: 90.20119594304404%\n",
            "when threshold 0.1 accuracy rate: 96.74254187452509%\n"
          ],
          "name": "stdout"
        }
      ]
    },
    {
      "cell_type": "code",
      "metadata": {
        "colab": {
          "base_uri": "https://localhost:8080/"
        },
        "id": "IQDB8bmz800C",
        "outputId": "7675a514-8898-405d-d45c-299e226c6d6a"
      },
      "source": [
        "y_xgbctest_pred=xgbc.predict(X_test)\n",
        "y_xgbctest_pred"
      ],
      "execution_count": null,
      "outputs": [
        {
          "output_type": "execute_result",
          "data": {
            "text/plain": [
              "array([0.2018637 , 0.20404738, 0.20320168, ..., 0.20410201, 0.21353409,\n",
              "       0.2509899 ], dtype=float32)"
            ]
          },
          "metadata": {
            "tags": []
          },
          "execution_count": 314
        }
      ]
    },
    {
      "cell_type": "code",
      "metadata": {
        "colab": {
          "base_uri": "https://localhost:8080/"
        },
        "id": "FL1diKakv4aG",
        "outputId": "f62e4d7c-0a56-4d93-860f-0d40c91d2df7"
      },
      "source": [
        "metrics(Y_test,y_xgbctest_pred)"
      ],
      "execution_count": null,
      "outputs": [
        {
          "output_type": "stream",
          "text": [
            "r-squared: 68.17019733128411%\n",
            "---------------------------------------\n",
            "root mean squared error: 0.012861082468860538\n"
          ],
          "name": "stdout"
        }
      ]
    },
    {
      "cell_type": "code",
      "metadata": {
        "colab": {
          "base_uri": "https://localhost:8080/"
        },
        "id": "NdNqnGRkv7W5",
        "outputId": "d9dead48-e63e-4da2-8238-788db46b0610"
      },
      "source": [
        "accu_rate(Y_test,y_xgbctest_pred)"
      ],
      "execution_count": null,
      "outputs": [
        {
          "output_type": "stream",
          "text": [
            "when threshold 0.01 accuracy rate: 60.389000670690805%\n",
            "when threshold 0.05 accuracy rate: 89.83903420523139%\n",
            "when threshold 0.1 accuracy rate: 96.31790744466801%\n"
          ],
          "name": "stdout"
        }
      ]
    },
    {
      "cell_type": "markdown",
      "metadata": {
        "id": "taZx-XjX1Dvf"
      },
      "source": [
        "# 特徵工程"
      ]
    },
    {
      "cell_type": "code",
      "metadata": {
        "colab": {
          "base_uri": "https://localhost:8080/"
        },
        "id": "l_4p90LW3dFT",
        "outputId": "2240ef80-ef18-4b3a-8d3a-f6199d265112"
      },
      "source": [
        "X = df_x\n",
        "Y = df_area['total_panel_area_residential']\n",
        "print(X.shape)\n",
        "print(Y.shape)"
      ],
      "execution_count": null,
      "outputs": [
        {
          "output_type": "stream",
          "text": [
            "(45179, 149)\n",
            "(45179,)\n"
          ],
          "name": "stdout"
        }
      ]
    },
    {
      "cell_type": "markdown",
      "metadata": {
        "id": "omMGPiZX7rkK"
      },
      "source": [
        "### 1. 過濾器法(filter methods)\n",
        "- 先算出每個feature的某種數值（通常是某種分數），然後基於這個數值去選出較好的feature。\n",
        "- 如與 Y 的相關係數、卡方檢定等\n",
        "- 速度最快，因為他跟模型訓練無關，但相對的效果也最差"
      ]
    },
    {
      "cell_type": "markdown",
      "metadata": {
        "id": "tQZxAEcQ4bLM"
      },
      "source": [
        "###2. Wrapper Methods(包裝器法)\n",
        "- 針對某個模型，基於他的score來選出最後的feature set\n",
        "\n"
      ]
    },
    {
      "cell_type": "code",
      "metadata": {
        "colab": {
          "base_uri": "https://localhost:8080/"
        },
        "id": "1l0wLc9K1Gny",
        "outputId": "c41065e3-3ce1-46cd-93ed-79cfcada1052"
      },
      "source": [
        "!pip install mlxtend"
      ],
      "execution_count": null,
      "outputs": [
        {
          "output_type": "stream",
          "text": [
            "Requirement already satisfied: mlxtend in /usr/local/lib/python3.7/dist-packages (0.14.0)\n",
            "Requirement already satisfied: pandas>=0.17.1 in /usr/local/lib/python3.7/dist-packages (from mlxtend) (1.1.5)\n",
            "Requirement already satisfied: numpy>=1.10.4 in /usr/local/lib/python3.7/dist-packages (from mlxtend) (1.19.5)\n",
            "Requirement already satisfied: scikit-learn>=0.18 in /usr/local/lib/python3.7/dist-packages (from mlxtend) (0.22.2.post1)\n",
            "Requirement already satisfied: setuptools in /usr/local/lib/python3.7/dist-packages (from mlxtend) (57.0.0)\n",
            "Requirement already satisfied: scipy>=0.17 in /usr/local/lib/python3.7/dist-packages (from mlxtend) (1.4.1)\n",
            "Requirement already satisfied: matplotlib>=1.5.1 in /usr/local/lib/python3.7/dist-packages (from mlxtend) (3.2.2)\n",
            "Requirement already satisfied: python-dateutil>=2.7.3 in /usr/local/lib/python3.7/dist-packages (from pandas>=0.17.1->mlxtend) (2.8.1)\n",
            "Requirement already satisfied: pytz>=2017.2 in /usr/local/lib/python3.7/dist-packages (from pandas>=0.17.1->mlxtend) (2018.9)\n",
            "Requirement already satisfied: joblib>=0.11 in /usr/local/lib/python3.7/dist-packages (from scikit-learn>=0.18->mlxtend) (1.0.1)\n",
            "Requirement already satisfied: cycler>=0.10 in /usr/local/lib/python3.7/dist-packages (from matplotlib>=1.5.1->mlxtend) (0.10.0)\n",
            "Requirement already satisfied: kiwisolver>=1.0.1 in /usr/local/lib/python3.7/dist-packages (from matplotlib>=1.5.1->mlxtend) (1.3.1)\n",
            "Requirement already satisfied: pyparsing!=2.0.4,!=2.1.2,!=2.1.6,>=2.0.1 in /usr/local/lib/python3.7/dist-packages (from matplotlib>=1.5.1->mlxtend) (2.4.7)\n",
            "Requirement already satisfied: six>=1.5 in /usr/local/lib/python3.7/dist-packages (from python-dateutil>=2.7.3->pandas>=0.17.1->mlxtend) (1.15.0)\n"
          ],
          "name": "stdout"
        }
      ]
    },
    {
      "cell_type": "code",
      "metadata": {
        "id": "7tVSWEzn1Mkv"
      },
      "source": [
        "from mlxtend.feature_selection import SequentialFeatureSelector as SFS #mlxtend有fixed_features\n",
        "from mlxtend.plotting import plot_sequential_feature_selection as plot_sfs\n",
        "from sklearn.tree import ExtraTreeRegressor\n",
        "from sklearn.pipeline import Pipeline"
      ],
      "execution_count": null,
      "outputs": []
    },
    {
      "cell_type": "code",
      "metadata": {
        "id": "qAs41xr32tIm",
        "colab": {
          "base_uri": "https://localhost:8080/"
        },
        "outputId": "5e261f3a-e8a2-4be2-ad61-ad478342cfd8"
      },
      "source": [
        "clf = ExtraTreeRegressor(random_state=0)\n",
        "sfs = SFS(clf, k_features=10, forward=True,  #向前\n",
        "          floating=False, scoring='neg_mean_squared_error',cv=2)\n",
        "\n",
        "sfs.fit(X,Y) "
      ],
      "execution_count": null,
      "outputs": [
        {
          "output_type": "execute_result",
          "data": {
            "text/plain": [
              "SequentialFeatureSelector(clone_estimator=True, cv=2,\n",
              "                          estimator=ExtraTreeRegressor(ccp_alpha=0.0,\n",
              "                                                       criterion='mse',\n",
              "                                                       max_depth=None,\n",
              "                                                       max_features='auto',\n",
              "                                                       max_leaf_nodes=None,\n",
              "                                                       min_impurity_decrease=0.0,\n",
              "                                                       min_impurity_split=None,\n",
              "                                                       min_samples_leaf=1,\n",
              "                                                       min_samples_split=2,\n",
              "                                                       min_weight_fraction_leaf=0.0,\n",
              "                                                       random_state=0,\n",
              "                                                       splitter='random'),\n",
              "                          floating=False, forward=True, k_features=10, n_jobs=1,\n",
              "                          pre_dispatch='2*n_jobs',\n",
              "                          scoring='neg_mean_squared_error', verbose=0)"
            ]
          },
          "metadata": {
            "tags": []
          },
          "execution_count": 78
        }
      ]
    },
    {
      "cell_type": "code",
      "metadata": {
        "colab": {
          "base_uri": "https://localhost:8080/",
          "height": 620
        },
        "id": "XZB0FYuVDqyh",
        "outputId": "5333d31a-d8ce-40d4-97b1-86a8ab1f558b"
      },
      "source": [
        "clf_pipe = Pipeline([('sfs', sfs),('Extra Tree Regressor', clf)])\n",
        "clf_pipe.named_steps['sfs'].k_feature_idx_\n",
        "result_clf_pipe = pd.DataFrame.from_dict(clf_pipe.named_steps['sfs'].get_metric_dict(confidence_interval=0.90)).T\n",
        "result_clf_pipe.sort_values('avg_score', ascending=0, inplace=True)\n",
        "result_clf_pipe"
      ],
      "execution_count": null,
      "outputs": [
        {
          "output_type": "execute_result",
          "data": {
            "text/html": [
              "<div>\n",
              "<style scoped>\n",
              "    .dataframe tbody tr th:only-of-type {\n",
              "        vertical-align: middle;\n",
              "    }\n",
              "\n",
              "    .dataframe tbody tr th {\n",
              "        vertical-align: top;\n",
              "    }\n",
              "\n",
              "    .dataframe thead th {\n",
              "        text-align: right;\n",
              "    }\n",
              "</style>\n",
              "<table border=\"1\" class=\"dataframe\">\n",
              "  <thead>\n",
              "    <tr style=\"text-align: right;\">\n",
              "      <th></th>\n",
              "      <th>feature_idx</th>\n",
              "      <th>cv_scores</th>\n",
              "      <th>avg_score</th>\n",
              "      <th>feature_names</th>\n",
              "      <th>ci_bound</th>\n",
              "      <th>std_dev</th>\n",
              "      <th>std_err</th>\n",
              "    </tr>\n",
              "  </thead>\n",
              "  <tbody>\n",
              "    <tr>\n",
              "      <th>7</th>\n",
              "      <td>(57, 59, 60, 62, 141, 144, 147)</td>\n",
              "      <td>[-0.0005927178138411076, -0.00017489296304226264]</td>\n",
              "      <td>-0.000383805</td>\n",
              "      <td>(electricity_price_residential, electricity_pr...</td>\n",
              "      <td>0.000610021</td>\n",
              "      <td>0.000208912</td>\n",
              "      <td>0.000208912</td>\n",
              "    </tr>\n",
              "    <tr>\n",
              "      <th>3</th>\n",
              "      <td>(60, 144, 147)</td>\n",
              "      <td>[-0.0005927178138411071, -0.00017489451528331456]</td>\n",
              "      <td>-0.000383806</td>\n",
              "      <td>(electricity_price_transportation, cooperate_t...</td>\n",
              "      <td>0.000610019</td>\n",
              "      <td>0.000208912</td>\n",
              "      <td>0.000208912</td>\n",
              "    </tr>\n",
              "    <tr>\n",
              "      <th>2</th>\n",
              "      <td>(60, 147)</td>\n",
              "      <td>[-0.000592717813841108, -0.00017489451528331445]</td>\n",
              "      <td>-0.000383806</td>\n",
              "      <td>(electricity_price_transportation, rebate)</td>\n",
              "      <td>0.000610019</td>\n",
              "      <td>0.000208912</td>\n",
              "      <td>0.000208912</td>\n",
              "    </tr>\n",
              "    <tr>\n",
              "      <th>4</th>\n",
              "      <td>(60, 62, 144, 147)</td>\n",
              "      <td>[-0.0005927178138411074, -0.0001748945152833152]</td>\n",
              "      <td>-0.000383806</td>\n",
              "      <td>(electricity_price_transportation, electricity...</td>\n",
              "      <td>0.000610019</td>\n",
              "      <td>0.000208912</td>\n",
              "      <td>0.000208912</td>\n",
              "    </tr>\n",
              "    <tr>\n",
              "      <th>5</th>\n",
              "      <td>(59, 60, 62, 144, 147)</td>\n",
              "      <td>[-0.0005927178138411066, -0.00017557185245635606]</td>\n",
              "      <td>-0.000384145</td>\n",
              "      <td>(electricity_price_industrial, electricity_pri...</td>\n",
              "      <td>0.00060903</td>\n",
              "      <td>0.000208573</td>\n",
              "      <td>0.000208573</td>\n",
              "    </tr>\n",
              "    <tr>\n",
              "      <th>6</th>\n",
              "      <td>(57, 59, 60, 62, 144, 147)</td>\n",
              "      <td>[-0.0005927178138411078, -0.00017557185245635612]</td>\n",
              "      <td>-0.000384145</td>\n",
              "      <td>(electricity_price_residential, electricity_pr...</td>\n",
              "      <td>0.00060903</td>\n",
              "      <td>0.000208573</td>\n",
              "      <td>0.000208573</td>\n",
              "    </tr>\n",
              "    <tr>\n",
              "      <th>8</th>\n",
              "      <td>(57, 59, 60, 62, 141, 143, 144, 147)</td>\n",
              "      <td>[-0.0005927178138411077, -0.00017557185245635642]</td>\n",
              "      <td>-0.000384145</td>\n",
              "      <td>(electricity_price_residential, electricity_pr...</td>\n",
              "      <td>0.00060903</td>\n",
              "      <td>0.000208573</td>\n",
              "      <td>0.000208573</td>\n",
              "    </tr>\n",
              "    <tr>\n",
              "      <th>1</th>\n",
              "      <td>(60,)</td>\n",
              "      <td>[-0.0005927178138411074, -0.0001794254684502614]</td>\n",
              "      <td>-0.000386072</td>\n",
              "      <td>(electricity_price_transportation,)</td>\n",
              "      <td>0.000603404</td>\n",
              "      <td>0.000206646</td>\n",
              "      <td>0.000206646</td>\n",
              "    </tr>\n",
              "    <tr>\n",
              "      <th>10</th>\n",
              "      <td>(57, 59, 60, 62, 64, 141, 143, 144, 147, 148)</td>\n",
              "      <td>[-0.0005927178138411078, -0.00018328605283929732]</td>\n",
              "      <td>-0.000388002</td>\n",
              "      <td>(electricity_price_residential, electricity_pr...</td>\n",
              "      <td>0.000597767</td>\n",
              "      <td>0.000204716</td>\n",
              "      <td>0.000204716</td>\n",
              "    </tr>\n",
              "    <tr>\n",
              "      <th>9</th>\n",
              "      <td>(57, 59, 60, 62, 64, 141, 143, 144, 147)</td>\n",
              "      <td>[-0.0005927178138411074, -0.00018396632928361817]</td>\n",
              "      <td>-0.000388342</td>\n",
              "      <td>(electricity_price_residential, electricity_pr...</td>\n",
              "      <td>0.000596774</td>\n",
              "      <td>0.000204376</td>\n",
              "      <td>0.000204376</td>\n",
              "    </tr>\n",
              "  </tbody>\n",
              "</table>\n",
              "</div>"
            ],
            "text/plain": [
              "                                      feature_idx  ...      std_err\n",
              "7                 (57, 59, 60, 62, 141, 144, 147)  ...  0.000208912\n",
              "3                                  (60, 144, 147)  ...  0.000208912\n",
              "2                                       (60, 147)  ...  0.000208912\n",
              "4                              (60, 62, 144, 147)  ...  0.000208912\n",
              "5                          (59, 60, 62, 144, 147)  ...  0.000208573\n",
              "6                      (57, 59, 60, 62, 144, 147)  ...  0.000208573\n",
              "8            (57, 59, 60, 62, 141, 143, 144, 147)  ...  0.000208573\n",
              "1                                           (60,)  ...  0.000206646\n",
              "10  (57, 59, 60, 62, 64, 141, 143, 144, 147, 148)  ...  0.000204716\n",
              "9        (57, 59, 60, 62, 64, 141, 143, 144, 147)  ...  0.000204376\n",
              "\n",
              "[10 rows x 7 columns]"
            ]
          },
          "metadata": {
            "tags": []
          },
          "execution_count": 88
        }
      ]
    },
    {
      "cell_type": "code",
      "metadata": {
        "colab": {
          "base_uri": "https://localhost:8080/",
          "height": 294
        },
        "id": "LF0kEVWmB9CH",
        "outputId": "2994b2d6-3d95-431f-c304-58587d69b717"
      },
      "source": [
        "fig = plot_sfs(sfs.get_metric_dict(), kind='std_err')\n",
        "plt.title('Sequential Forward Selection (w. StdErr)')\n",
        "plt.grid()\n",
        "plt.show()"
      ],
      "execution_count": null,
      "outputs": [
        {
          "output_type": "display_data",
          "data": {
            "image/png": "[encoded data removed]",
            "text/plain": [
              "<Figure size 432x288 with 1 Axes>"
            ]
          },
          "metadata": {
            "tags": [],
            "needs_background": "light"
          }
        }
      ]
    },
    {
      "cell_type": "code",
      "metadata": {
        "id": "Z0zaJAfr4jEK",
        "colab": {
          "base_uri": "https://localhost:8080/"
        },
        "outputId": "af28d732-f66a-4113-d529-d78fdbc31507"
      },
      "source": [
        "print(f\"Best score achieved: {sfs.k_score_},Feature's ids: {sfs.k_feature_idx_},Feature's names: {sfs.k_feature_names_} \")"
      ],
      "execution_count": null,
      "outputs": [
        {
          "output_type": "stream",
          "text": [
            "Best score achieved: -0.00038800193334020256,Feature's ids: (57, 59, 60, 62, 64, 141, 143, 144, 147, 148),Feature's names: ('electricity_price_residential', 'electricity_price_industrial', 'electricity_price_transportation', 'electricity_consume_residential', 'electricity_consume_industrial', 'incentive_nonresidential_state_level', 'feedin_tariff', 'cooperate_tax', 'rebate', 'avg_electricity_retail_rate') \n"
          ],
          "name": "stdout"
        }
      ]
    },
    {
      "cell_type": "markdown",
      "metadata": {
        "id": "pmbOIsUa9emp"
      },
      "source": [
        "### 3.Embedded Methods\n",
        "- 利用Training中間model的某種資訊，來當作feature selection的依據，而model會在training過程中自動的使用重要的feature，像是LASSO，在training的過程中因應演算法某些feature對應的權重會變成0，因此在training跟prediction的時候這些feature會直接被忽略。"
      ]
    },
    {
      "cell_type": "markdown",
      "metadata": {
        "id": "056ioTbuWoEs"
      },
      "source": [
        "[lasso plot](https://www.analyticsvidhya.com/blog/2016/01/ridge-lasso-regression-python-complete-tutorial/)"
      ]
    },
    {
      "cell_type": "code",
      "metadata": {
        "id": "y4YkpkyRVcMY"
      },
      "source": [
        "from sklearn.linear_model import Lasso\n",
        "def lasso_regression(data, predictors, alpha, models_to_plot={}):\n",
        "    #Fit the model\n",
        "    lassoreg = Lasso(alpha=alpha,normalize=True, max_iter=1e5)\n",
        "    lassoreg.fit(data[predictors],data['y'])\n",
        "    y_pred = lassoreg.predict(data[predictors])\n",
        "    \n",
        "    #Check if a plot is to be made for the entered alpha\n",
        "    if alpha in models_to_plot:\n",
        "        plt.subplot(models_to_plot[alpha])\n",
        "        plt.tight_layout()\n",
        "        plt.plot(data['x'],y_pred)\n",
        "        plt.plot(data['x'],data['y'],'.')\n",
        "        plt.title('Plot for alpha: %.3g'%alpha)\n",
        "    \n",
        "    #Return the result in pre-defined format\n",
        "    rss = sum((y_pred-data['y'])**2)\n",
        "    ret = [rss]\n",
        "    ret.extend([lassoreg.intercept_])\n",
        "    ret.extend(lassoreg.coef_)\n",
        "    return ret"
      ],
      "execution_count": null,
      "outputs": []
    },
    {
      "cell_type": "code",
      "metadata": {
        "colab": {
          "base_uri": "https://localhost:8080/"
        },
        "id": "p3ebsfrSHSJN",
        "outputId": "de9960ff-b2e8-4dcd-bf93-d4452523c2a7"
      },
      "source": [
        "from sklearn.linear_model import Lasso\n",
        "\n",
        "lasso = Lasso(alpha=1,random_state=0)\n",
        "lasso.fit(X_train, Y_train)\n",
        "# Make predictions using the testing set\n",
        "lasso_pred = lasso.predict(X_test)\n",
        "metrics(Y_test,lasso_pred)"
      ],
      "execution_count": null,
      "outputs": [
        {
          "output_type": "stream",
          "text": [
            "r-squared: -0.001368089927300531%\n",
            "---------------------------------------\n",
            "root mean squared error: 0.022796255752949756\n"
          ],
          "name": "stdout"
        }
      ]
    },
    {
      "cell_type": "code",
      "metadata": {
        "colab": {
          "base_uri": "https://localhost:8080/"
        },
        "id": "8XlokJk7PTWX",
        "outputId": "4f3c4158-64ec-4fcc-8b71-a5e796c84f48"
      },
      "source": [
        "accu_rate(Y_test,lasso_pred)"
      ],
      "execution_count": null,
      "outputs": [
        {
          "output_type": "stream",
          "text": [
            "when threshold 0.01 accuracy rate: 6.089872568745808%\n",
            "when threshold 0.05 accuracy rate: 88.29644533869886%\n",
            "when threshold 0.1 accuracy rate: 93.1120053655265%\n"
          ],
          "name": "stdout"
        }
      ]
    },
    {
      "cell_type": "code",
      "metadata": {
        "colab": {
          "base_uri": "https://localhost:8080/",
          "height": 405
        },
        "id": "wJ_657bVSxQm",
        "outputId": "ae85727f-1207-463e-99d0-5ddb345803a2"
      },
      "source": [
        "lasso <- glmnet(X.train, Y.train, alpha=1) #, family=\"gaussian\"\n",
        "#train = sample(seq(length(y)),70,replace=FALSE)\n",
        "#fit1 = glmnet(x[train,], y[train])\n",
        "#assess.glmnet(fit1, newx = x[-train,], newy = y[-train])\n",
        "#preds = predict(fit1, newx = x[-train, ], s = c(1, 0.25))\n",
        "#assess.glmnet(preds, newy = y[-train], family = \"gaussian\")\n",
        "#fit1c = cv.glmnet(x, y, keep = TRUE)\n",
        "#fit1a = assess.glmnet(fit1c$fit.preval, newy=y,family=\"gaussian\") plot(fit1c$lambda, log=\"x\",fit1a$mae,xlab=\"Log Lambda\",ylab=\"Mean Absolute Error\") abline(v=fit1c$lambda.min, lty=2, col=\"red\")"
      ],
      "execution_count": null,
      "outputs": [
        {
          "output_type": "error",
          "ename": "AttributeError",
          "evalue": "ignored",
          "traceback": [
            "\u001b[0;31m---------------------------------------------------------------------------\u001b[0m",
            "\u001b[0;31mAttributeError\u001b[0m                            Traceback (most recent call last)",
            "\u001b[0;32m<ipython-input-137-82d57a033474>\u001b[0m in \u001b[0;36m<module>\u001b[0;34m()\u001b[0m\n\u001b[0;32m----> 1\u001b[0;31m \u001b[0mlasso\u001b[0m \u001b[0;34m<\u001b[0m\u001b[0;34m-\u001b[0m \u001b[0mglmnet\u001b[0m\u001b[0;34m(\u001b[0m\u001b[0mX\u001b[0m\u001b[0;34m.\u001b[0m\u001b[0mtrain\u001b[0m\u001b[0;34m,\u001b[0m \u001b[0mY\u001b[0m\u001b[0;34m.\u001b[0m\u001b[0mtrain\u001b[0m\u001b[0;34m,\u001b[0m \u001b[0malpha\u001b[0m\u001b[0;34m=\u001b[0m\u001b[0;36m1\u001b[0m\u001b[0;34m)\u001b[0m \u001b[0;31m#, family=\"gaussian\"\u001b[0m\u001b[0;34m\u001b[0m\u001b[0;34m\u001b[0m\u001b[0m\n\u001b[0m\u001b[1;32m      2\u001b[0m \u001b[0;31m#train = sample(seq(length(y)),70,replace=FALSE)\u001b[0m\u001b[0;34m\u001b[0m\u001b[0;34m\u001b[0m\u001b[0;34m\u001b[0m\u001b[0m\n\u001b[1;32m      3\u001b[0m \u001b[0;31m#fit1 = glmnet(x[train,], y[train])\u001b[0m\u001b[0;34m\u001b[0m\u001b[0;34m\u001b[0m\u001b[0;34m\u001b[0m\u001b[0m\n\u001b[1;32m      4\u001b[0m \u001b[0;31m#assess.glmnet(fit1, newx = x[-train,], newy = y[-train])\u001b[0m\u001b[0;34m\u001b[0m\u001b[0;34m\u001b[0m\u001b[0;34m\u001b[0m\u001b[0m\n\u001b[1;32m      5\u001b[0m \u001b[0;31m#preds = predict(fit1, newx = x[-train, ], s = c(1, 0.25))\u001b[0m\u001b[0;34m\u001b[0m\u001b[0;34m\u001b[0m\u001b[0;34m\u001b[0m\u001b[0m\n",
            "\u001b[0;32m/usr/local/lib/python3.7/dist-packages/pandas/core/generic.py\u001b[0m in \u001b[0;36m__getattr__\u001b[0;34m(self, name)\u001b[0m\n\u001b[1;32m   5139\u001b[0m             \u001b[0;32mif\u001b[0m \u001b[0mself\u001b[0m\u001b[0;34m.\u001b[0m\u001b[0m_info_axis\u001b[0m\u001b[0;34m.\u001b[0m\u001b[0m_can_hold_identifiers_and_holds_name\u001b[0m\u001b[0;34m(\u001b[0m\u001b[0mname\u001b[0m\u001b[0;34m)\u001b[0m\u001b[0;34m:\u001b[0m\u001b[0;34m\u001b[0m\u001b[0;34m\u001b[0m\u001b[0m\n\u001b[1;32m   5140\u001b[0m                 \u001b[0;32mreturn\u001b[0m \u001b[0mself\u001b[0m\u001b[0;34m[\u001b[0m\u001b[0mname\u001b[0m\u001b[0;34m]\u001b[0m\u001b[0;34m\u001b[0m\u001b[0;34m\u001b[0m\u001b[0m\n\u001b[0;32m-> 5141\u001b[0;31m             \u001b[0;32mreturn\u001b[0m \u001b[0mobject\u001b[0m\u001b[0;34m.\u001b[0m\u001b[0m__getattribute__\u001b[0m\u001b[0;34m(\u001b[0m\u001b[0mself\u001b[0m\u001b[0;34m,\u001b[0m \u001b[0mname\u001b[0m\u001b[0;34m)\u001b[0m\u001b[0;34m\u001b[0m\u001b[0;34m\u001b[0m\u001b[0m\n\u001b[0m\u001b[1;32m   5142\u001b[0m \u001b[0;34m\u001b[0m\u001b[0m\n\u001b[1;32m   5143\u001b[0m     \u001b[0;32mdef\u001b[0m \u001b[0m__setattr__\u001b[0m\u001b[0;34m(\u001b[0m\u001b[0mself\u001b[0m\u001b[0;34m,\u001b[0m \u001b[0mname\u001b[0m\u001b[0;34m:\u001b[0m \u001b[0mstr\u001b[0m\u001b[0;34m,\u001b[0m \u001b[0mvalue\u001b[0m\u001b[0;34m)\u001b[0m \u001b[0;34m->\u001b[0m \u001b[0;32mNone\u001b[0m\u001b[0;34m:\u001b[0m\u001b[0;34m\u001b[0m\u001b[0;34m\u001b[0m\u001b[0m\n",
            "\u001b[0;31mAttributeError\u001b[0m: 'DataFrame' object has no attribute 'train'"
          ]
        }
      ]
    },
    {
      "cell_type": "code",
      "metadata": {
        "colab": {
          "base_uri": "https://localhost:8080/",
          "height": 241
        },
        "id": "d9cYdsMyPxJd",
        "outputId": "f12ec9dd-d620-4b94-e914-2ef167ddd856"
      },
      "source": [
        "import glmnet\n",
        "x = X_test\n",
        "y = Y_test\n",
        "fit1 = glmnet(x, y)\n",
        "#mod = cv.glmnet(x, y, alpha=0.1)"
      ],
      "execution_count": null,
      "outputs": [
        {
          "output_type": "error",
          "ename": "TypeError",
          "evalue": "ignored",
          "traceback": [
            "\u001b[0;31m---------------------------------------------------------------------------\u001b[0m",
            "\u001b[0;31mTypeError\u001b[0m                                 Traceback (most recent call last)",
            "\u001b[0;32m<ipython-input-130-244d526293e9>\u001b[0m in \u001b[0;36m<module>\u001b[0;34m()\u001b[0m\n\u001b[1;32m      2\u001b[0m \u001b[0mx\u001b[0m \u001b[0;34m=\u001b[0m \u001b[0mX_test\u001b[0m\u001b[0;34m\u001b[0m\u001b[0;34m\u001b[0m\u001b[0m\n\u001b[1;32m      3\u001b[0m \u001b[0my\u001b[0m \u001b[0;34m=\u001b[0m \u001b[0mY_test\u001b[0m\u001b[0;34m\u001b[0m\u001b[0;34m\u001b[0m\u001b[0m\n\u001b[0;32m----> 4\u001b[0;31m \u001b[0mfit1\u001b[0m \u001b[0;34m=\u001b[0m \u001b[0mglmnet\u001b[0m\u001b[0;34m(\u001b[0m\u001b[0mx\u001b[0m\u001b[0;34m,\u001b[0m \u001b[0my\u001b[0m\u001b[0;34m)\u001b[0m\u001b[0;34m\u001b[0m\u001b[0;34m\u001b[0m\u001b[0m\n\u001b[0m\u001b[1;32m      5\u001b[0m \u001b[0;31m#mod = cv.glmnet(x, y, alpha=0.1)\u001b[0m\u001b[0;34m\u001b[0m\u001b[0;34m\u001b[0m\u001b[0;34m\u001b[0m\u001b[0m\n",
            "\u001b[0;31mTypeError\u001b[0m: 'module' object is not callable"
          ]
        }
      ]
    },
    {
      "cell_type": "markdown",
      "metadata": {
        "id": "lbGRze094Hpc"
      },
      "source": [
        "### 4.主成分分析(PCA)"
      ]
    },
    {
      "cell_type": "code",
      "metadata": {
        "id": "3KpIvaO_HZU_"
      },
      "source": [
        "from sklearn.decomposition import PCA"
      ],
      "execution_count": null,
      "outputs": []
    },
    {
      "cell_type": "code",
      "metadata": {
        "colab": {
          "base_uri": "https://localhost:8080/"
        },
        "id": "RSuiGJv74Jeu",
        "outputId": "68d26ef1-9b69-4741-ad32-af0ade50c8a0"
      },
      "source": [
        "pca = PCA(n_components=10)\n",
        "X_pca = pca.fit(X)\n",
        "# summarize components\n",
        "print('Explained Variance:{}'.format(X_pca.explained_variance_ratio_))\n",
        "print('Explained Cum_Variance:{}'.format(np.cumsum(X_pca.explained_variance_ratio_)))"
      ],
      "execution_count": null,
      "outputs": [
        {
          "output_type": "stream",
          "text": [
            "Explained Variance:[0.30893915 0.1621527  0.07122882 0.05579959 0.05115451 0.03741928\n",
            " 0.03006404 0.02440475 0.02312136 0.01760863]\n",
            "Explained Cum_Variance:[0.30893915 0.47109185 0.54232067 0.59812026 0.64927477 0.68669406\n",
            " 0.71675809 0.74116284 0.7642842  0.78189284]\n"
          ],
          "name": "stdout"
        }
      ]
    },
    {
      "cell_type": "code",
      "metadata": {
        "colab": {
          "base_uri": "https://localhost:8080/",
          "height": 352
        },
        "id": "20ufAbOCge_T",
        "outputId": "eefa6d4f-a886-4a0c-cbc1-4e94ef4c7192"
      },
      "source": [
        "n_pcs= X_pca.components_.shape[0]\n",
        "\n",
        "# get the index of the most important feature on EACH component\n",
        "# LIST COMPREHENSION HERE\n",
        "most_important = [np.abs(X_pca.components_[i]).argmax() for i in range(n_pcs)]\n",
        "\n",
        "initial_feature_names = X.columns\n",
        "most_important_names = [initial_feature_names[most_important[i]] for i in range(n_pcs)]\n",
        "\n",
        "dic = {'PC{}'.format(i): most_important_names[i] for i in range(n_pcs)}\n",
        "\n",
        "df = pd.DataFrame(dic.items(),columns=['PCA_num','Features name'])\n",
        "df"
      ],
      "execution_count": null,
      "outputs": [
        {
          "output_type": "execute_result",
          "data": {
            "text/html": [
              "<div>\n",
              "<style scoped>\n",
              "    .dataframe tbody tr th:only-of-type {\n",
              "        vertical-align: middle;\n",
              "    }\n",
              "\n",
              "    .dataframe tbody tr th {\n",
              "        vertical-align: top;\n",
              "    }\n",
              "\n",
              "    .dataframe thead th {\n",
              "        text-align: right;\n",
              "    }\n",
              "</style>\n",
              "<table border=\"1\" class=\"dataframe\">\n",
              "  <thead>\n",
              "    <tr style=\"text-align: right;\">\n",
              "      <th></th>\n",
              "      <th>PCA_num</th>\n",
              "      <th>Features name</th>\n",
              "    </tr>\n",
              "  </thead>\n",
              "  <tbody>\n",
              "    <tr>\n",
              "      <th>0</th>\n",
              "      <td>PC0</td>\n",
              "      <td>electricity_price_commercial</td>\n",
              "    </tr>\n",
              "    <tr>\n",
              "      <th>1</th>\n",
              "      <td>PC1</td>\n",
              "      <td>frost_days</td>\n",
              "    </tr>\n",
              "    <tr>\n",
              "      <th>2</th>\n",
              "      <td>PC2</td>\n",
              "      <td>race_white_rate</td>\n",
              "    </tr>\n",
              "    <tr>\n",
              "      <th>3</th>\n",
              "      <td>PC3</td>\n",
              "      <td>property_tax</td>\n",
              "    </tr>\n",
              "    <tr>\n",
              "      <th>4</th>\n",
              "      <td>PC4</td>\n",
              "      <td>heating_fuel_gas_rate</td>\n",
              "    </tr>\n",
              "    <tr>\n",
              "      <th>5</th>\n",
              "      <td>PC5</td>\n",
              "      <td>electricity_consume_industrial</td>\n",
              "    </tr>\n",
              "    <tr>\n",
              "      <th>6</th>\n",
              "      <td>PC6</td>\n",
              "      <td>property_tax</td>\n",
              "    </tr>\n",
              "    <tr>\n",
              "      <th>7</th>\n",
              "      <td>PC7</td>\n",
              "      <td>relative_humidity</td>\n",
              "    </tr>\n",
              "    <tr>\n",
              "      <th>8</th>\n",
              "      <td>PC8</td>\n",
              "      <td>relative_humidity</td>\n",
              "    </tr>\n",
              "    <tr>\n",
              "      <th>9</th>\n",
              "      <td>PC9</td>\n",
              "      <td>diversity</td>\n",
              "    </tr>\n",
              "  </tbody>\n",
              "</table>\n",
              "</div>"
            ],
            "text/plain": [
              "  PCA_num                   Features name\n",
              "0     PC0    electricity_price_commercial\n",
              "1     PC1                      frost_days\n",
              "2     PC2                 race_white_rate\n",
              "3     PC3                    property_tax\n",
              "4     PC4           heating_fuel_gas_rate\n",
              "5     PC5  electricity_consume_industrial\n",
              "6     PC6                    property_tax\n",
              "7     PC7               relative_humidity\n",
              "8     PC8               relative_humidity\n",
              "9     PC9                       diversity"
            ]
          },
          "metadata": {
            "tags": []
          },
          "execution_count": 179
        }
      ]
    },
    {
      "cell_type": "markdown",
      "metadata": {
        "id": "YWQfLkXB0FKv"
      },
      "source": [
        "### 5. Feature Importance\n",
        "- XGBoost\n",
        "- RF"
      ]
    },
    {
      "cell_type": "code",
      "metadata": {
        "colab": {
          "base_uri": "https://localhost:8080/",
          "height": 347
        },
        "id": "hV80d10lzi9M",
        "outputId": "54f74513-d6a4-4ae8-bc43-1eec9f175247"
      },
      "source": [
        "import xgboost as xgb\n",
        "dmatrix = xgb.DMatrix(X,Y) #決策樹\n",
        "# Create the parameter dictionary: params\n",
        "params = {'objective':'reg:linear','max_depth':'2'}\n",
        "# Train the model: xg_reg\n",
        "xg_reg = xgb.train(dtrain=dmatrix,params=params,num_boost_round=4)\n",
        "# Plot the feature importances\n",
        "xgb.plot_importance(xg_reg)"
      ],
      "execution_count": null,
      "outputs": [
        {
          "output_type": "stream",
          "text": [
            "[15:10:26] WARNING: /workspace/src/objective/regression_obj.cu:152: reg:linear is now deprecated in favor of reg:squarederror.\n"
          ],
          "name": "stdout"
        },
        {
          "output_type": "execute_result",
          "data": {
            "text/plain": [
              "<matplotlib.axes._subplots.AxesSubplot at 0x7ffabe5495d0>"
            ]
          },
          "metadata": {
            "tags": []
          },
          "execution_count": 39
        },
        {
          "output_type": "display_data",
          "data": {
            "image/png": "[encoded data removed]",
            "text/plain": [
              "<Figure size 432x288 with 1 Axes>"
            ]
          },
          "metadata": {
            "tags": [],
            "needs_background": "light"
          }
        }
      ]
    },
    {
      "cell_type": "markdown",
      "metadata": {
        "id": "u5C3dbLMaAu6"
      },
      "source": [
        "- https://explained.ai/rf-importance/"
      ]
    },
    {
      "cell_type": "code",
      "metadata": {
        "colab": {
          "base_uri": "https://localhost:8080/"
        },
        "id": "lDo3wqtWzysA",
        "outputId": "c7374bc6-1c67-4905-a163-85f062ef1f86"
      },
      "source": [
        "from sklearn.ensemble import RandomForestRegressor\n",
        "rf = RandomForestRegressor(max_depth=4,max_features=4,max_leaf_nodes=4)\n",
        "rf.fit(X, Y)"
      ],
      "execution_count": null,
      "outputs": [
        {
          "output_type": "execute_result",
          "data": {
            "text/plain": [
              "RandomForestRegressor(bootstrap=True, ccp_alpha=0.0, criterion='mse',\n",
              "                      max_depth=4, max_features=4, max_leaf_nodes=4,\n",
              "                      max_samples=None, min_impurity_decrease=0.0,\n",
              "                      min_impurity_split=None, min_samples_leaf=1,\n",
              "                      min_samples_split=2, min_weight_fraction_leaf=0.0,\n",
              "                      n_estimators=100, n_jobs=None, oob_score=False,\n",
              "                      random_state=None, verbose=0, warm_start=False)"
            ]
          },
          "metadata": {
            "tags": []
          },
          "execution_count": 154
        }
      ]
    },
    {
      "cell_type": "code",
      "metadata": {
        "id": "Ghaud9syZnJB"
      },
      "source": [
        "def dropcol_importances(rf, X_train, y_train):\n",
        "    baseline = rf.oob_score_\n",
        "    imp = []\n",
        "    for col in X_train.columns:\n",
        "        X = X_train.drop(col, axis=1)\n",
        "        rf_ = clone(rf)\n",
        "        rf_.random_state = 999\n",
        "        rf_.fit(X, y_train)\n",
        "        o = rf_.oob_score_\n",
        "        imp.append(baseline - o)\n",
        "    imp = np.array(imp)\n",
        "    I = pd.DataFrame(\n",
        "            data={'Feature':X_train.columns,\n",
        "                  'Importance':imp})\n",
        "    I = I.set_index('Feature')\n",
        "    I = I.sort_values('Importance', ascending=True)\n",
        "    return I"
      ],
      "execution_count": null,
      "outputs": []
    },
    {
      "cell_type": "code",
      "metadata": {
        "colab": {
          "base_uri": "https://localhost:8080/",
          "height": 340
        },
        "id": "qn-okxf_ZurC",
        "outputId": "a44ae5ae-bd5e-4e5b-f5a5-3bfbb37f608e"
      },
      "source": [
        "dropcol_importances(rf, X_train, Y_train)"
      ],
      "execution_count": null,
      "outputs": [
        {
          "output_type": "error",
          "ename": "AttributeError",
          "evalue": "ignored",
          "traceback": [
            "\u001b[0;31m---------------------------------------------------------------------------\u001b[0m",
            "\u001b[0;31mAttributeError\u001b[0m                            Traceback (most recent call last)",
            "\u001b[0;32m<ipython-input-148-fdf8119ba5f2>\u001b[0m in \u001b[0;36m<module>\u001b[0;34m()\u001b[0m\n\u001b[0;32m----> 1\u001b[0;31m \u001b[0mdropcol_importances\u001b[0m\u001b[0;34m(\u001b[0m\u001b[0mrf\u001b[0m\u001b[0;34m,\u001b[0m \u001b[0mX_train\u001b[0m\u001b[0;34m,\u001b[0m \u001b[0mY_train\u001b[0m\u001b[0;34m)\u001b[0m\u001b[0;34m\u001b[0m\u001b[0;34m\u001b[0m\u001b[0m\n\u001b[0m",
            "\u001b[0;32m<ipython-input-147-bb4470faa5af>\u001b[0m in \u001b[0;36mdropcol_importances\u001b[0;34m(rf, X_train, y_train)\u001b[0m\n\u001b[1;32m      1\u001b[0m \u001b[0;32mdef\u001b[0m \u001b[0mdropcol_importances\u001b[0m\u001b[0;34m(\u001b[0m\u001b[0mrf\u001b[0m\u001b[0;34m,\u001b[0m \u001b[0mX_train\u001b[0m\u001b[0;34m,\u001b[0m \u001b[0my_train\u001b[0m\u001b[0;34m)\u001b[0m\u001b[0;34m:\u001b[0m\u001b[0;34m\u001b[0m\u001b[0;34m\u001b[0m\u001b[0m\n\u001b[0;32m----> 2\u001b[0;31m     \u001b[0mbaseline\u001b[0m \u001b[0;34m=\u001b[0m \u001b[0mrf\u001b[0m\u001b[0;34m.\u001b[0m\u001b[0moob_score_\u001b[0m\u001b[0;34m\u001b[0m\u001b[0;34m\u001b[0m\u001b[0m\n\u001b[0m\u001b[1;32m      3\u001b[0m     \u001b[0mimp\u001b[0m \u001b[0;34m=\u001b[0m \u001b[0;34m[\u001b[0m\u001b[0;34m]\u001b[0m\u001b[0;34m\u001b[0m\u001b[0;34m\u001b[0m\u001b[0m\n\u001b[1;32m      4\u001b[0m     \u001b[0;32mfor\u001b[0m \u001b[0mcol\u001b[0m \u001b[0;32min\u001b[0m \u001b[0mX_train\u001b[0m\u001b[0;34m.\u001b[0m\u001b[0mcolumns\u001b[0m\u001b[0;34m:\u001b[0m\u001b[0;34m\u001b[0m\u001b[0;34m\u001b[0m\u001b[0m\n\u001b[1;32m      5\u001b[0m         \u001b[0mX\u001b[0m \u001b[0;34m=\u001b[0m \u001b[0mX_train\u001b[0m\u001b[0;34m.\u001b[0m\u001b[0mdrop\u001b[0m\u001b[0;34m(\u001b[0m\u001b[0mcol\u001b[0m\u001b[0;34m,\u001b[0m \u001b[0maxis\u001b[0m\u001b[0;34m=\u001b[0m\u001b[0;36m1\u001b[0m\u001b[0;34m)\u001b[0m\u001b[0;34m\u001b[0m\u001b[0;34m\u001b[0m\u001b[0m\n",
            "\u001b[0;31mAttributeError\u001b[0m: 'RandomForestRegressor' object has no attribute 'oob_score_'"
          ]
        }
      ]
    },
    {
      "cell_type": "code",
      "metadata": {
        "colab": {
          "base_uri": "https://localhost:8080/",
          "height": 1000
        },
        "id": "6kXWGPUy3hHR",
        "outputId": "57ee9608-1462-418a-8900-02eddc34a21e"
      },
      "source": [
        "sorted_idx = rf.feature_importances_.argsort()\n",
        "fig= plt.subplots(figsize=(10,40)) \n",
        "plt.barh(df_x.columns[sorted_idx], rf.feature_importances_[sorted_idx])\n",
        "plt.xlabel(\"Random Forest Feature Importance\")"
      ],
      "execution_count": null,
      "outputs": [
        {
          "output_type": "execute_result",
          "data": {
            "text/plain": [
              "Text(0.5, 0, 'Random Forest Feature Importance')"
            ]
          },
          "metadata": {
            "tags": []
          },
          "execution_count": 156
        },
        {
          "output_type": "display_data",
          "data": {
            "image/png": "[encoded data removed]",
            "text/plain": [
              "<Figure size 720x2880 with 1 Axes>"
            ]
          },
          "metadata": {
            "tags": [],
            "needs_background": "light"
          }
        }
      ]
    },
    {
      "cell_type": "markdown",
      "metadata": {
        "id": "KzlKmsNr0Bla"
      },
      "source": [
        "# 特徵工程後預測性能"
      ]
    },
    {
      "cell_type": "code",
      "metadata": {
        "id": "4dmHL-qO0IiJ"
      },
      "source": [
        "feature_list=['electricity_price_industrial', 'electricity_consume_residential', 'incentive_nonresidential_state_level', 'feedin_tariff',\n",
        "             'daily_solar_radiation', 'lon', 'electricity_price_commercial', 'relative_humidity','race_white','property_tax']\n",
        "df_x = df_area[feature_list]"
      ],
      "execution_count": null,
      "outputs": []
    },
    {
      "cell_type": "code",
      "metadata": {
        "colab": {
          "base_uri": "https://localhost:8080/"
        },
        "id": "-YfIjDip_TSe",
        "outputId": "f3e331d6-d6fb-44c0-c205-afc7e478b2f0"
      },
      "source": [
        "X = df_x\n",
        "Y = df_area['total_panel_area_residential']\n",
        "print(X.shape)\n",
        "print(Y.shape)"
      ],
      "execution_count": null,
      "outputs": [
        {
          "output_type": "stream",
          "text": [
            "(45179, 10)\n",
            "(45179,)\n"
          ],
          "name": "stdout"
        }
      ]
    },
    {
      "cell_type": "code",
      "metadata": {
        "colab": {
          "base_uri": "https://localhost:8080/"
        },
        "id": "k8KfhkVd_V2v",
        "outputId": "c0d09bf9-4cfd-4b88-880b-edf7d17e9d3e"
      },
      "source": [
        "X_train1, X_test1, Y_train1, Y_test1 = train_test_split(X, Y, test_size=0.33, random_state=101)\n",
        "print(X_train1.shape)\n",
        "print(X_test1.shape)\n",
        "print(Y_train1.shape)\n",
        "print(Y_test1.shape)"
      ],
      "execution_count": null,
      "outputs": [
        {
          "output_type": "stream",
          "text": [
            "(30269, 10)\n",
            "(14910, 10)\n",
            "(30269,)\n",
            "(14910,)\n"
          ],
          "name": "stdout"
        }
      ]
    },
    {
      "cell_type": "code",
      "metadata": {
        "colab": {
          "base_uri": "https://localhost:8080/",
          "height": 614
        },
        "id": "LOvsmaoqwQPX",
        "outputId": "41d60e56-6407-4e52-8f54-a94e5132c3c4"
      },
      "source": [
        "#看feature間heatmap，目前83 feature 太多，看不出來\n",
        "df_features=df_x.astype(np.float32) # 需要先將資料型態統一轉為float才能計算corr\n",
        "# compute the pair wise correlation for all columns  \n",
        "correlation_matrix = df_features.corr(method='pearson').round(2)\n",
        " \n",
        "# Steps to remove redundant values\n",
        "mask = np.zeros_like(df_features.corr())\n",
        "mask[np.triu_indices_from(mask)] = True\n",
        "\n",
        "# use the heatmap function from seaborn to plot the correlation matrix\n",
        "# annot = True to print the values inside the square\n",
        "sns.set(rc={'figure.figsize': (10,10)})\n",
        "sns.heatmap(df_features.corr().round(2), square=True, annot=True, mask=mask);"
      ],
      "execution_count": null,
      "outputs": [
        {
          "output_type": "display_data",
          "data": {
            "image/png": "[encoded data removed]",
            "text/plain": [
              "<Figure size 720x720 with 2 Axes>"
            ]
          },
          "metadata": {
            "tags": []
          }
        }
      ]
    },
    {
      "cell_type": "markdown",
      "metadata": {
        "id": "n_dnOL0l__4l"
      },
      "source": [
        "# Extra Trees"
      ]
    },
    {
      "cell_type": "code",
      "metadata": {
        "id": "09qR_jdJ_-v6"
      },
      "source": [
        "from sklearn.ensemble import BaggingRegressor\n",
        "from sklearn.tree import ExtraTreeRegressor\n",
        "extra_tree1 = ExtraTreeRegressor()\n",
        "bag1 = BaggingRegressor(extra_tree1, random_state=0).fit(X_train1, Y_train1)"
      ],
      "execution_count": null,
      "outputs": []
    },
    {
      "cell_type": "code",
      "metadata": {
        "colab": {
          "base_uri": "https://localhost:8080/"
        },
        "id": "1ozRLQ-kAGef",
        "outputId": "7c44a4e9-6f98-4379-e847-9943a8f86d48"
      },
      "source": [
        "y_bagtrain1_pred=bag1.predict(X_train1)\n",
        "y_bagtrain1_pred"
      ],
      "execution_count": null,
      "outputs": [
        {
          "output_type": "execute_result",
          "data": {
            "text/plain": [
              "array([0.20013821, 0.20129027, 0.20009385, ..., 0.20016301, 0.20023959,\n",
              "       0.20018487])"
            ]
          },
          "metadata": {
            "tags": []
          },
          "execution_count": 185
        }
      ]
    },
    {
      "cell_type": "code",
      "metadata": {
        "colab": {
          "base_uri": "https://localhost:8080/"
        },
        "id": "_bsANFFKwyFl",
        "outputId": "34979037-0426-4aff-87a1-f8cdabb44288"
      },
      "source": [
        "metrics(Y_train1,y_bagtrain1_pred)"
      ],
      "execution_count": null,
      "outputs": [
        {
          "output_type": "stream",
          "text": [
            "r-squared: 90.97192919086476%\n",
            "---------------------------------------\n",
            "root mean squared error: 0.006681037644325477\n"
          ],
          "name": "stdout"
        }
      ]
    },
    {
      "cell_type": "code",
      "metadata": {
        "colab": {
          "base_uri": "https://localhost:8080/"
        },
        "id": "WSq0pffXw2J1",
        "outputId": "e7a58929-5679-4d12-d22c-9cf43d01a969"
      },
      "source": [
        "accu_rate(Y_train1,y_bagtrain1_pred)"
      ],
      "execution_count": null,
      "outputs": [
        {
          "output_type": "stream",
          "text": [
            "when threshold 0.01 accuracy rate: 79.63593115068221%\n",
            "when threshold 0.05 accuracy rate: 95.47061349895934%\n",
            "when threshold 0.1 accuracy rate: 98.68512339357099%\n"
          ],
          "name": "stdout"
        }
      ]
    },
    {
      "cell_type": "code",
      "metadata": {
        "colab": {
          "base_uri": "https://localhost:8080/"
        },
        "id": "lHS2ieUJw-xH",
        "outputId": "70594355-6486-4620-94da-825abc9a9e4e"
      },
      "source": [
        "y_bagtest1_pred=bag1.predict(X_test1)\n",
        "y_bagtest1_pred"
      ],
      "execution_count": null,
      "outputs": [
        {
          "output_type": "execute_result",
          "data": {
            "text/plain": [
              "array([0.20014368, 0.20030454, 0.20021773, ..., 0.20120989, 0.21463209,\n",
              "       0.21676213])"
            ]
          },
          "metadata": {
            "tags": []
          },
          "execution_count": 188
        }
      ]
    },
    {
      "cell_type": "code",
      "metadata": {
        "colab": {
          "base_uri": "https://localhost:8080/"
        },
        "id": "G9_VJbL_xC_5",
        "outputId": "52b75c4e-58cb-4879-da59-b0aff2510c5a"
      },
      "source": [
        "metrics(Y_test1,y_bagtest1_pred)"
      ],
      "execution_count": null,
      "outputs": [
        {
          "output_type": "stream",
          "text": [
            "r-squared: 51.12126677588007%\n",
            "---------------------------------------\n",
            "root mean squared error: 0.015937511858182485\n"
          ],
          "name": "stdout"
        }
      ]
    },
    {
      "cell_type": "code",
      "metadata": {
        "colab": {
          "base_uri": "https://localhost:8080/"
        },
        "id": "JwuTH49IxGSl",
        "outputId": "5be59ca6-863e-480f-a224-6d0f0e8d6970"
      },
      "source": [
        "accu_rate(Y_test1,y_bagtest1_pred)"
      ],
      "execution_count": null,
      "outputs": [
        {
          "output_type": "stream",
          "text": [
            "when threshold 0.01 accuracy rate: 64.88262910798122%\n",
            "when threshold 0.05 accuracy rate: 86.3514419852448%\n",
            "when threshold 0.1 accuracy rate: 93.72904091213951%\n"
          ],
          "name": "stdout"
        }
      ]
    },
    {
      "cell_type": "markdown",
      "metadata": {
        "id": "pOZxe5rbBHpk"
      },
      "source": [
        "# XGBoost"
      ]
    },
    {
      "cell_type": "code",
      "metadata": {
        "id": "Pk_PaqDwBEgY",
        "colab": {
          "base_uri": "https://localhost:8080/"
        },
        "outputId": "538d464f-2ec4-4005-847b-7467824b9b93"
      },
      "source": [
        "from xgboost import XGBRegressor\n",
        "xgbc1 = XGBRegressor(objective ='reg:linear', verbosity = 0, random_state=42)\n",
        "xgbc1.fit(X_train1, Y_train1)"
      ],
      "execution_count": null,
      "outputs": [
        {
          "output_type": "execute_result",
          "data": {
            "text/plain": [
              "XGBRegressor(base_score=0.5, booster='gbtree', colsample_bylevel=1,\n",
              "             colsample_bynode=1, colsample_bytree=1, gamma=0,\n",
              "             importance_type='gain', learning_rate=0.1, max_delta_step=0,\n",
              "             max_depth=3, min_child_weight=1, missing=None, n_estimators=100,\n",
              "             n_jobs=1, nthread=None, objective='reg:linear', random_state=42,\n",
              "             reg_alpha=0, reg_lambda=1, scale_pos_weight=1, seed=None,\n",
              "             silent=None, subsample=1, verbosity=0)"
            ]
          },
          "metadata": {
            "tags": []
          },
          "execution_count": 191
        }
      ]
    },
    {
      "cell_type": "code",
      "metadata": {
        "colab": {
          "base_uri": "https://localhost:8080/"
        },
        "id": "5q2KgESEBMic",
        "outputId": "64bf64c3-c2e2-4dee-939e-c8a38167e872"
      },
      "source": [
        "y_xgbctrain1_pred=xgbc1.predict(X_train1)\n",
        "y_xgbctrain1_pred"
      ],
      "execution_count": null,
      "outputs": [
        {
          "output_type": "execute_result",
          "data": {
            "text/plain": [
              "array([0.20057815, 0.20150813, 0.20018202, ..., 0.20126483, 0.20126483,\n",
              "       0.20142019], dtype=float32)"
            ]
          },
          "metadata": {
            "tags": []
          },
          "execution_count": 192
        }
      ]
    },
    {
      "cell_type": "code",
      "metadata": {
        "colab": {
          "base_uri": "https://localhost:8080/"
        },
        "id": "bH3zHbTyyLvc",
        "outputId": "06337adb-fe6c-42c6-a85e-8845ae982efb"
      },
      "source": [
        "metrics(Y_train1,y_xgbctrain1_pred)"
      ],
      "execution_count": null,
      "outputs": [
        {
          "output_type": "stream",
          "text": [
            "r-squared: 58.12205614898542%\n",
            "---------------------------------------\n",
            "root mean squared error: 0.01438928172319456\n"
          ],
          "name": "stdout"
        }
      ]
    },
    {
      "cell_type": "code",
      "metadata": {
        "colab": {
          "base_uri": "https://localhost:8080/"
        },
        "id": "3dSUj9HEyP8H",
        "outputId": "54bbbd2d-6a9a-499b-9b65-2b1eba5e7410"
      },
      "source": [
        "accu_rate(Y_train1,y_xgbctrain1_pred)"
      ],
      "execution_count": null,
      "outputs": [
        {
          "output_type": "stream",
          "text": [
            "when threshold 0.01 accuracy rate: 60.98979153589481%\n",
            "when threshold 0.05 accuracy rate: 86.02861012917506%\n",
            "when threshold 0.1 accuracy rate: 94.12600350193267%\n"
          ],
          "name": "stdout"
        }
      ]
    },
    {
      "cell_type": "code",
      "metadata": {
        "colab": {
          "base_uri": "https://localhost:8080/"
        },
        "id": "IjOCGks6yVPZ",
        "outputId": "2a7b5c35-9120-4780-8421-2f8e7941567a"
      },
      "source": [
        "y_xgbctest1_pred=xgbc1.predict(X_test1)\n",
        "y_xgbctest1_pred"
      ],
      "execution_count": null,
      "outputs": [
        {
          "output_type": "execute_result",
          "data": {
            "text/plain": [
              "array([0.2011916 , 0.20142019, 0.20071957, ..., 0.20148492, 0.2030895 ,\n",
              "       0.2171073 ], dtype=float32)"
            ]
          },
          "metadata": {
            "tags": []
          },
          "execution_count": 195
        }
      ]
    },
    {
      "cell_type": "code",
      "metadata": {
        "colab": {
          "base_uri": "https://localhost:8080/"
        },
        "id": "_H0OnOoiyY2S",
        "outputId": "43d1fe1c-6e81-4108-e5d9-d125940841a1"
      },
      "source": [
        "metrics(Y_test1,y_xgbctest1_pred)"
      ],
      "execution_count": null,
      "outputs": [
        {
          "output_type": "stream",
          "text": [
            "r-squared: 53.02266271173639%\n",
            "---------------------------------------\n",
            "root mean squared error: 0.01562445035538637\n"
          ],
          "name": "stdout"
        }
      ]
    },
    {
      "cell_type": "code",
      "metadata": {
        "colab": {
          "base_uri": "https://localhost:8080/"
        },
        "id": "kL8b7MGxybwJ",
        "outputId": "a409b668-43c8-4996-b259-e45cfbccafa7"
      },
      "source": [
        "accu_rate(Y_test1,y_xgbctest1_pred)"
      ],
      "execution_count": null,
      "outputs": [
        {
          "output_type": "stream",
          "text": [
            "when threshold 0.01 accuracy rate: 60.992622401073106%\n",
            "when threshold 0.05 accuracy rate: 86.06975184439973%\n",
            "when threshold 0.1 accuracy rate: 93.8430583501006%\n"
          ],
          "name": "stdout"
        }
      ]
    },
    {
      "cell_type": "markdown",
      "metadata": {
        "id": "TYgp7pcUl1Li"
      },
      "source": [
        "# DNN"
      ]
    },
    {
      "cell_type": "code",
      "metadata": {
        "id": "R40thOaJl0d9"
      },
      "source": [
        "from sklearn.neural_network import MLPRegressor\n",
        "\n",
        "dnn1=MLPRegressor(hidden_layer_sizes=(80,80,80),  #預設值1層,數目100\n",
        "         activation='relu',  #{'identity'無，'logistic'為sigmoid，'tanh'，'relu'}，預設='relu'\n",
        "         solver='adam',   #{'lbfgs'牛頓，'sgd'隨機梯度，'adam'隨機梯度優化}，預設='adam'\n",
        "         batch_size=100,  #'auto'為min(200～樣本數)\n",
        "         learning_rate='constant',  #constant固定'，'invscaling隨著時間遞減'，'adaptive誤差減少時不改變'}，預設 ='constant' \n",
        "         learning_rate_init=0.01, #優化器為sgd、adam使用\n",
        "         power_t=0.5,     # 優化器為sgd，則可以設定強化學習率   \n",
        "         max_iter=1000,    #訓練次數\n",
        "         shuffle=True,    #隨機設定權重\n",
        "         random_state=1,   #隨機的基礎值\n",
        "         momentum=0.9)"
      ],
      "execution_count": null,
      "outputs": []
    },
    {
      "cell_type": "code",
      "metadata": {
        "colab": {
          "base_uri": "https://localhost:8080/"
        },
        "id": "KeBKeSlZmAnl",
        "outputId": "9dcad8a9-f65b-4e81-c590-3ae42f20cce5"
      },
      "source": [
        "dnn1.fit(X_train1, Y_train1)\n",
        "y_dnntrain_pred1=dnn1.predict(X_train1)\n",
        "y_dnntrain_pred1"
      ],
      "execution_count": null,
      "outputs": [
        {
          "output_type": "execute_result",
          "data": {
            "text/plain": [
              "array([0.20099711, 0.2011675 , 0.20071854, ..., 0.2016929 , 0.20132666,\n",
              "       0.20154919])"
            ]
          },
          "metadata": {
            "tags": []
          },
          "execution_count": 199
        }
      ]
    },
    {
      "cell_type": "code",
      "metadata": {
        "colab": {
          "base_uri": "https://localhost:8080/"
        },
        "id": "moMuAKkwmPX8",
        "outputId": "884b1afb-acb5-4b37-fda2-b7f78297fe89"
      },
      "source": [
        "metrics(Y_train1,y_dnntrain_pred1)"
      ],
      "execution_count": null,
      "outputs": [
        {
          "output_type": "stream",
          "text": [
            "r-squared: 25.9115171718175%\n",
            "---------------------------------------\n",
            "root mean squared error: 0.019139112321467932\n"
          ],
          "name": "stdout"
        }
      ]
    },
    {
      "cell_type": "code",
      "metadata": {
        "colab": {
          "base_uri": "https://localhost:8080/"
        },
        "id": "JkAat6g3mXye",
        "outputId": "0c9011d3-df11-4584-effb-1bf2a4aa717a"
      },
      "source": [
        "accu_rate(Y_train1,y_dnntrain_pred1)"
      ],
      "execution_count": null,
      "outputs": [
        {
          "output_type": "stream",
          "text": [
            "when threshold 0.01 accuracy rate: 55.10588390762826%\n",
            "when threshold 0.05 accuracy rate: 77.0226964881562%\n",
            "when threshold 0.1 accuracy rate: 84.65426674155077%\n"
          ],
          "name": "stdout"
        }
      ]
    },
    {
      "cell_type": "code",
      "metadata": {
        "colab": {
          "base_uri": "https://localhost:8080/"
        },
        "id": "7-yaKHztmaXv",
        "outputId": "869413e1-ec24-4071-8693-1fad8c972af8"
      },
      "source": [
        "dnn1.fit(X_test1, Y_test1)\n",
        "y_dnntest_pred1=dnn1.predict(X_test1)\n",
        "y_dnntest_pred1"
      ],
      "execution_count": null,
      "outputs": [
        {
          "output_type": "execute_result",
          "data": {
            "text/plain": [
              "array([0.19803681, 0.1988343 , 0.19812821, ..., 0.19798589, 0.19885278,\n",
              "       0.22797854])"
            ]
          },
          "metadata": {
            "tags": []
          },
          "execution_count": 202
        }
      ]
    },
    {
      "cell_type": "code",
      "metadata": {
        "colab": {
          "base_uri": "https://localhost:8080/"
        },
        "id": "eSZMrmiLm4Ux",
        "outputId": "4c79f32e-597f-45cb-8f54-d547d24e943f"
      },
      "source": [
        "metrics(Y_test1,y_dnntest_pred1)"
      ],
      "execution_count": null,
      "outputs": [
        {
          "output_type": "stream",
          "text": [
            "r-squared: 23.967458968509657%\n",
            "---------------------------------------\n",
            "root mean squared error: 0.01987743319142485\n"
          ],
          "name": "stdout"
        }
      ]
    },
    {
      "cell_type": "code",
      "metadata": {
        "colab": {
          "base_uri": "https://localhost:8080/"
        },
        "id": "a38YDgEbm7PM",
        "outputId": "73606da1-9949-47f0-f6aa-b3e50be82f44"
      },
      "source": [
        "accu_rate(Y_test1,y_dnntest_pred1)"
      ],
      "execution_count": null,
      "outputs": [
        {
          "output_type": "stream",
          "text": [
            "when threshold 0.01 accuracy rate: 20.469483568075116%\n",
            "when threshold 0.05 accuracy rate: 81.140174379611%\n",
            "when threshold 0.1 accuracy rate: 92.00536552649228%\n"
          ],
          "name": "stdout"
        }
      ]
    },
    {
      "cell_type": "markdown",
      "metadata": {
        "id": "eVkx_uvxCGJq"
      },
      "source": [
        "# 儲存model"
      ]
    },
    {
      "cell_type": "code",
      "metadata": {
        "colab": {
          "base_uri": "https://localhost:8080/"
        },
        "id": "1PMp4H3-ECGZ",
        "outputId": "adf2193a-5256-4314-8e0e-03ee9843bb2e"
      },
      "source": [
        "from sklearn.externals import joblib\n",
        "model_dir = '/content/drive/MyDrive/Colab Notebooks/models/'\n",
        "# Save the model as a pickle in a file\n",
        "joblib.dump(bag1, f'{model_dir}'+'Deepsolar_Bagging_model.pkl')"
      ],
      "execution_count": null,
      "outputs": [
        {
          "output_type": "execute_result",
          "data": {
            "text/plain": [
              "['/content/drive/MyDrive/Colab Notebooks/models/Deepsolar_Bagging_model.pkl']"
            ]
          },
          "metadata": {
            "tags": []
          },
          "execution_count": 410
        }
      ]
    },
    {
      "cell_type": "code",
      "metadata": {
        "colab": {
          "base_uri": "https://localhost:8080/"
        },
        "id": "Euw4j6NSCTwQ",
        "outputId": "51f91fec-1c24-471b-a46f-a30c86e7fb02"
      },
      "source": [
        "# 確認模型是否載入成功\n",
        "try:\n",
        "    model = joblib.load('/content/drive/MyDrive/Colab Notebooks/models/Deepsolar_Bagging_model.pkl')\n",
        "    print(\"載入模型成功!繼續訓練模型\")\n",
        "except :\n",
        "    print(\"載入模型失敗!開始訓練一個新模型\")"
      ],
      "execution_count": null,
      "outputs": [
        {
          "output_type": "stream",
          "text": [
            "載入模型成功!繼續訓練模型\n"
          ],
          "name": "stdout"
        }
      ]
    },
    {
      "cell_type": "code",
      "metadata": {
        "colab": {
          "base_uri": "https://localhost:8080/"
        },
        "id": "EN-o2wEgFgun",
        "outputId": "4ddddb48-486e-4d64-80e1-7dcdf890c14e"
      },
      "source": [
        "# Use the loaded model to make predictions\n",
        "model.predict(X_test)"
      ],
      "execution_count": null,
      "outputs": [
        {
          "output_type": "execute_result",
          "data": {
            "text/plain": [
              "array([0.29376602, 0.21338835, 0.31002462, ..., 0.30987658, 0.26432344,\n",
              "       0.31524033])"
            ]
          },
          "metadata": {
            "tags": []
          },
          "execution_count": 412
        }
      ]
    },
    {
      "cell_type": "code",
      "metadata": {
        "colab": {
          "base_uri": "https://localhost:8080/"
        },
        "id": "Q9AVd_2nNAII",
        "outputId": "fff93fac-5d41-44c4-b3a7-acf903134c07"
      },
      "source": [
        "y = (y_pred-0.2)*40380.099851/0.6\n",
        "y"
      ],
      "execution_count": null,
      "outputs": [
        {
          "output_type": "execute_result",
          "data": {
            "text/plain": [
              "6310.468750384772"
            ]
          },
          "metadata": {
            "tags": []
          },
          "execution_count": 414
        }
      ]
    }
  ]
}